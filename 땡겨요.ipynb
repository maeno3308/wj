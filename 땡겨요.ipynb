{
 "cells": [
  {
   "cell_type": "code",
   "execution_count": 8,
   "metadata": {},
   "outputs": [],
   "source": [
    "import os\n",
    "import time\n",
    "import random\n",
    "\n",
    "from selenium import webdriver\n",
    "from selenium.webdriver.chrome.options import Options\n",
    "from selenium.common.exceptions import NoSuchElementException\n",
    "\n",
    "from selenium.webdriver.common.by import By\n",
    "from selenium.webdriver.common.keys import Keys"
   ]
  },
  {
   "cell_type": "code",
   "execution_count": 9,
   "metadata": {},
   "outputs": [],
   "source": [
    "\n",
    "options = Options()\n",
    "\n",
    "user_agent = 'Mozilla/5.0 (Windows NT 10.0; Win64; x64) AppleWebKit/537.36 (KHTML, like Gecko) Chrome/119.0.0.0 Safari/537.36'\n",
    "# user_data = \"내가 원하는 경로\"\n",
    "\n",
    "options.add_argument(f\"user-agent={user_agent}\")\n",
    "# options.add_argument(f\"user-data-dir={user_data}\")\n",
    "options.add_experimental_option(\"detach\", True) # 화면이 꺼지지 않고 유지"
   ]
  },
  {
   "cell_type": "code",
   "execution_count": 10,
   "metadata": {},
   "outputs": [],
   "source": [
    "def rdtime_12():\n",
    "    time.sleep(random.uniform(1,2))\n",
    "    return\n",
    "def rdtime_23():\n",
    "    time.sleep(random.uniform(2,3))\n",
    "    return"
   ]
  },
  {
   "cell_type": "code",
   "execution_count": 11,
   "metadata": {},
   "outputs": [],
   "source": [
    "##########################로그인함수\n",
    "driver = webdriver.Chrome(options=options)\n",
    "rdtime_12()\n",
    "driver.get('https://boss.ddangyo.com/')\n",
    "rdtime_23()\n",
    "rdtime_12()\n",
    "땡_아이디 = driver.find_element(By.CLASS_NAME, 'w2input')\n",
    "rdtime_12()\n",
    "땡_아이디.send_keys('maeno3308')\n",
    "rdtime_23()\n",
    "땡_비번 = driver.find_element(By.ID, value='mf_sct_pwd')\n",
    "rdtime_12()\n",
    "땡_비번.send_keys('@kwj300560011*')\n",
    "rdtime_23()\n",
    "로그인클릭 = driver.find_element(By.ID, 'mf_wq_uuid_34')\n",
    "로그인클릭.click()\n",
    "rdtime_23()\n",
    "rdtime_23()\n"
   ]
  },
  {
   "cell_type": "code",
   "execution_count": 16,
   "metadata": {},
   "outputs": [],
   "source": [
    "\n",
    "try:\n",
    "    rdtime_23()\n",
    "    영업임시중지클릭 = driver.find_element(By.CSS_SELECTOR, '#mf_wfm_side_gen_menuParent_0_gen_menuSub_1_btn_child').click()\n",
    "    rdtime_23()\n",
    "    변경 = driver.find_element(By.XPATH,'//input[@value=\"변경\"]').click()\n",
    "    # rdtime_23()\n",
    "    임시중지 = driver.find_element(By.XPATH,'//label[text()=\"영업중\"]').click()\n",
    "    rdtime_23()\n",
    "    저장 = driver.find_element(By.XPATH,'//input[@value=\"저장\"]').click()\n",
    "    rdtime_23()\n",
    "    확인 = driver.find_element(By.XPATH,'//input[@value=\"확인\"]').click()\n",
    "    rdtime_23()\n",
    "except:\n",
    "    rdtime_12()"
   ]
  },
  {
   "cell_type": "code",
   "execution_count": 19,
   "metadata": {},
   "outputs": [],
   "source": [
    "###################땡겨요품절해제\n",
    "try:\n",
    "    품절해제클릭 = driver.find_element(By.XPATH,'//*[text()=\"품절설정\"]').click()\n",
    "    rdtime_23()\n",
    "    while True:\n",
    "        품절해제 = driver.find_elements(By.LINK_TEXT,'품절해제')\n",
    "        if len(품절해제) == 0:\n",
    "            break\n",
    "        else:\n",
    "            품절해제[0].click()\n",
    "            rdtime_23()\n",
    "\n",
    "    옵션품절 = driver.find_element(By.LINK_TEXT,'옵션품절').click()\n",
    "    while True:\n",
    "        품절해제 = driver.find_elements(By.LINK_TEXT,'품절해제')\n",
    "        if len(품절해제) == 0:\n",
    "            break\n",
    "        else:\n",
    "            품절해제[0].click()\n",
    "            rdtime_23()\n",
    "            확인 = driver.find_element(By.XPATH,'//input[@value=\"확인\"]').click()  \n",
    "            rdtime_23()\n",
    "            rdtime_23()\n",
    "except:\n",
    "    rdtime_12()"
   ]
  },
  {
   "cell_type": "code",
   "execution_count": 18,
   "metadata": {},
   "outputs": [],
   "source": [
    "확인 = driver.find_element(By.XPATH,'//input[@value=\"확인\"]').click()  \n"
   ]
  },
  {
   "cell_type": "code",
   "execution_count": 20,
   "metadata": {},
   "outputs": [
    {
     "name": "stdout",
     "output_type": "stream",
     "text": [
      "1\n",
      "1\n"
     ]
    }
   ],
   "source": [
    "# ##############땡겨요 댓글달기\n",
    "\n",
    "try:\n",
    "    driver.get('https://boss.ddangyo.com/#SH0201')\n",
    "    rdtime_23()\n",
    "    리뷰관리클릭 = driver.find_element(By.XPATH,'//*[text()=\"리뷰관리\"]').click()\n",
    "    rdtime_23()\n",
    "    rdtime_23()\n",
    "except:\n",
    "    rdtime_23()\n",
    "\n",
    "try:\n",
    "    while True:\n",
    "        사장님댓글등록 = driver.find_elements(By.XPATH,'//*[@value=\"사장님 댓글 등록\"]')\n",
    "        댓글수 = len(사장님댓글등록)\n",
    "        print(댓글수)\n",
    "        if 댓글수 != 0:\n",
    "            사장님댓글등록[0].click()\n",
    "            rdtime_23()\n",
    "            댓글쓰기 = driver.find_element(By.ID,'mf_wfm_contents_wfm_tabFrame_gen_generator1_0_txa_rplyCont')\n",
    "            with open ('g_comment.txt','r',encoding='UTF8') as f:\n",
    "                댓글5 = f.read()\n",
    "            댓글쓰기.send_keys('\\n')\n",
    "            time.sleep(1)\n",
    "            댓글쓰기.send_keys(댓글5)\n",
    "            rdtime_23()\n",
    "            등록 = driver.find_element(By.XPATH,'//input[@value=\"등록\"]').click()\n",
    "            rdtime_23()\n",
    "            확인 = driver.find_element(By.XPATH,'//input[@value=\"확인\"]').click()\n",
    "            rdtime_23()\n",
    "        else:\n",
    "            break\n",
    "except:\n",
    "    rdtime_12()"
   ]
  },
  {
   "cell_type": "code",
   "execution_count": 21,
   "metadata": {},
   "outputs": [],
   "source": [
    "확인 = driver.find_element(By.XPATH,'//input[@value=\"확인\"]').click()"
   ]
  },
  {
   "cell_type": "code",
   "execution_count": 94,
   "metadata": {},
   "outputs": [],
   "source": [
    "#############################영업 임시중지\n",
    "try:\n",
    "    rdtime_23()\n",
    "    영업임시중지클릭 = driver.find_element(By.CSS_SELECTOR, '#mf_wfm_side_gen_menuParent_0_gen_menuSub_1_btn_child').click()\n",
    "    rdtime_23()\n",
    "    변경 = driver.find_element(By.XPATH,'//input[@value=\"변경\"]').click()\n",
    "    rdtime_23()\n",
    "    중지 = driver.find_element(By.XPATH,'//label[text()=\"영업임시중지\"]').click()\n",
    "    rdtime_23()\n",
    "    중지 = driver.find_element(By.XPATH,'//option[text()=\"가게사정\"]').click()\n",
    "    rdtime_23()\n",
    "    중지 = driver.find_element(By.XPATH,'//input[@value=\"저장\"]').click()\n",
    "    rdtime_23()\n",
    "    확인 = driver.find_element(By.XPATH,'//input[@value=\"확인\"]').click()\n",
    "    rdtime_23()\n",
    "except:\n",
    "    rdtime_12()\n"
   ]
  },
  {
   "cell_type": "code",
   "execution_count": 56,
   "metadata": {},
   "outputs": [],
   "source": []
  },
  {
   "cell_type": "code",
   "execution_count": 36,
   "metadata": {},
   "outputs": [],
   "source": [
    "##################메뉴품절\n",
    "while True:\n",
    "    try:\n",
    "        품절설정 = driver.find_element(By.ID, 'mf_wfm_side_gen_menuParent_2_gen_menuSub_1_btn_child').click()\n",
    "        rdtime_23()\n",
    "        품절어 = driver.find_element(By.ID, 'mf_wfm_contents_wfm_tabcontents_ibx_menuSearch').send_keys('맵달')\n",
    "        rdtime_23()\n",
    "        검색클릭 = driver.find_element(By.ID, 'mf_wfm_contents_wfm_tabcontents_btn_search')\n",
    "        검색클릭.click()\n",
    "        rdtime_12()\n",
    "\n",
    "\n",
    "        메뉴품절 = driver.find_element(By.LINK_TEXT, '품절').click()\n",
    "        rdtime_23()\n",
    "        확인 = driver.find_element(By.XPATH, '//input[@value=\"확인\"]').click()\n",
    "        rdtime_23()\n",
    "    except:\n",
    "        break"
   ]
  },
  {
   "cell_type": "code",
   "execution_count": 7,
   "metadata": {},
   "outputs": [],
   "source": [
    "옵션명검색 = driver.find_element(By.ID, 'mf_wfm_contents_wfm_tabcontents_ibx_optnSearch').send_keys('맵달')\n"
   ]
  },
  {
   "cell_type": "code",
   "execution_count": 46,
   "metadata": {},
   "outputs": [],
   "source": [
    "####################옵션선택및검색\n",
    "\n",
    "옵션선택클릭 = driver.find_element(By.ID, 'mf_wfm_contents_btn_optionSldot').click()\n",
    "rdtime_23()\n",
    "옵션명검색 = driver.find_element(By.ID, 'mf_wfm_contents_wfm_tabcontents_ibx_optnSearch')\n",
    "옵션명검색.send_keys('맵달')\n",
    "rdtime_23()\n",
    "옵션검색클릭 = driver.find_element(By.ID, 'mf_wfm_contents_wfm_tabcontents_btn_search').click()\n",
    "rdtime_23()\n"
   ]
  },
  {
   "cell_type": "code",
   "execution_count": 49,
   "metadata": {},
   "outputs": [],
   "source": [
    "#########################옵션품절\n",
    "while True:\n",
    "    try:\n",
    "        메뉴품절 = driver.find_element(By.LINK_TEXT, '품절').click()\n",
    "        rdtime_23()\n",
    "        while True:\n",
    "            try:\n",
    "                확인 = driver.find_element(By.XPATH, '//input[@value=\"확인\"]').click()\n",
    "                rdtime_23()\n",
    "            except:\n",
    "                break\n",
    "    except:\n",
    "        break"
   ]
  },
  {
   "cell_type": "code",
   "execution_count": 22,
   "metadata": {},
   "outputs": [
    {
     "name": "stdout",
     "output_type": "stream",
     "text": [
      "2\n",
      "<selenium.webdriver.remote.webelement.WebElement (session=\"3a1910b9a5095cdd6d44289bd6454a71\", element=\"CD843262E7A3345C8E56CEB9FE52DF3A_element_277\")>\n"
     ]
    },
    {
     "ename": "TypeError",
     "evalue": "'WebElement' object is not subscriptable",
     "output_type": "error",
     "traceback": [
      "\u001b[1;31m---------------------------------------------------------------------------\u001b[0m",
      "\u001b[1;31mTypeError\u001b[0m                                 Traceback (most recent call last)",
      "Cell \u001b[1;32mIn[22], line 9\u001b[0m\n\u001b[0;32m      7\u001b[0m rdtime_12()\n\u001b[0;32m      8\u001b[0m \u001b[38;5;28mprint\u001b[39m(i)\n\u001b[1;32m----> 9\u001b[0m \u001b[43mi\u001b[49m\u001b[43m[\u001b[49m\u001b[43m품절목록\u001b[49m\u001b[43m]\u001b[49m\u001b[38;5;241m.\u001b[39mclick()\n\u001b[0;32m     10\u001b[0m rdtime_12()\n\u001b[0;32m     11\u001b[0m rdtime_12()\n",
      "\u001b[1;31mTypeError\u001b[0m: 'WebElement' object is not subscriptable"
     ]
    }
   ],
   "source": [
    "rdtime_12()\n",
    "품절목록 = driver.find_elements(By.LINK_TEXT, '품절')\n",
    "# 품절목록 = driver.find_elements(By.CSS_SELECTOR, '.w2anchor2.btn_bg.soldout')\n",
    "print(len(품절목록))\n",
    "s1 = 0\n",
    "for i in 품절목록:\n",
    "    rdtime_12()\n",
    "    print(i)\n",
    "    i[품절목록].click()\n",
    "    rdtime_12()\n",
    "    rdtime_12()\n",
    "    확인 = driver.find_elements(By.CSS_SELECTOR, '.w2trigger.btn')\n",
    "    확인[3].click()\n",
    "    rdtime_23()\n",
    "\n",
    "    rdtime_12()\n",
    "    s1 += 1\n",
    "    "
   ]
  },
  {
   "cell_type": "code",
   "execution_count": null,
   "metadata": {},
   "outputs": [],
   "source": [
    "mf_wfm_contents_wfm_tabcontents_confirm6986850631365996_wframe_btn_yes"
   ]
  },
  {
   "cell_type": "code",
   "execution_count": null,
   "metadata": {},
   "outputs": [],
   "source": []
  },
  {
   "cell_type": "code",
   "execution_count": null,
   "metadata": {},
   "outputs": [],
   "source": []
  },
  {
   "cell_type": "code",
   "execution_count": 29,
   "metadata": {},
   "outputs": [],
   "source": [
    "rdtime_12()\n",
    "옵션품절 = driver.find_element(By.NAME, value='keyword')\n",
    "rdtime_12()\n",
    "옵션품절.send_keys('파스')\n",
    "rdtime_12()\n"
   ]
  },
  {
   "cell_type": "code",
   "execution_count": 33,
   "metadata": {},
   "outputs": [],
   "source": [
    "try:\n",
    "    필수선택 = driver.find_element(By.CSS_SELECTOR, value='.sc-ewnqHT.bnlUBh')\n",
    "    필수선택.click()\n",
    "except:\n",
    "    print('dddddddddddddddddddddd')\n"
   ]
  },
  {
   "cell_type": "code",
   "execution_count": 35,
   "metadata": {},
   "outputs": [
    {
     "name": "stdout",
     "output_type": "stream",
     "text": [
      "[<selenium.webdriver.remote.webelement.WebElement (session=\"6616433f5cf1c47f50e2d6cf4db85797\", element=\"565C26DF0DCDB56E054D4010F8D6C63F_element_21675\")>, <selenium.webdriver.remote.webelement.WebElement (session=\"6616433f5cf1c47f50e2d6cf4db85797\", element=\"565C26DF0DCDB56E054D4010F8D6C63F_element_21698\")>, <selenium.webdriver.remote.webelement.WebElement (session=\"6616433f5cf1c47f50e2d6cf4db85797\", element=\"565C26DF0DCDB56E054D4010F8D6C63F_element_21699\")>, <selenium.webdriver.remote.webelement.WebElement (session=\"6616433f5cf1c47f50e2d6cf4db85797\", element=\"565C26DF0DCDB56E054D4010F8D6C63F_element_21700\")>]\n",
      "4\n",
      "2222222222222222222222\n",
      "2222222222222222222222\n",
      "2222222222222222222222\n"
     ]
    }
   ],
   "source": [
    "검색결과2 = driver.find_elements(By.CSS_SELECTOR, '.sc-bgqQcB.cdnbBK.sc-dicizt.ToggleButtonGroup___StyledLabelButton-sc-am0hqm-1.eECEbI.hJHCmU')\n",
    "print(검색결과2)\n",
    "print(len(검색결과2))\n",
    "\n",
    "for ss2 in 검색결과2:\n",
    "    ss2.click()\n",
    "    rdtime_12()\n",
    "\n",
    "    try:\n",
    "        필수선택 = driver.find_element(By.CSS_SELECTOR, '.sc-ewnqHT.bnlUBh')\n",
    "        # if 필수선택 == True:\n",
    "        필수선택.click()\n",
    "        rdtime_12()\n",
    "    except:\n",
    "        print(2222222222222222222222)\n",
    "        rdtime_12()\n"
   ]
  },
  {
   "cell_type": "code",
   "execution_count": null,
   "metadata": {},
   "outputs": [],
   "source": [
    "\n",
    "    try:\n",
    "        필수선택 = driver.find_element(By.CSS_SELECTOR, '.sc-ewnqHT.bnlUBh')\n",
    "    \n",
    "    # except NoSuchElementException:\n",
    "\n",
    "        if 필수선택 == True:\n",
    "            필수선택.click()\n",
    "            rdtime_12()\n",
    "    except NoSuchElementException:\n",
    "        continue"
   ]
  }
 ],
 "metadata": {
  "kernelspec": {
   "display_name": "Python 3",
   "language": "python",
   "name": "python3"
  },
  "language_info": {
   "codemirror_mode": {
    "name": "ipython",
    "version": 3
   },
   "file_extension": ".py",
   "mimetype": "text/x-python",
   "name": "python",
   "nbconvert_exporter": "python",
   "pygments_lexer": "ipython3",
   "version": "3.12.0"
  }
 },
 "nbformat": 4,
 "nbformat_minor": 2
}
