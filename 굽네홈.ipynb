{
 "cells": [
  {
   "cell_type": "code",
   "execution_count": 14,
   "metadata": {},
   "outputs": [],
   "source": [
    "import os\n",
    "import time\n",
    "import random\n",
    "from datetime import datetime, timedelta\n",
    "\n",
    "\n",
    "\n",
    "from selenium import webdriver\n",
    "from selenium.webdriver.chrome.options import Options\n",
    "from selenium.common.exceptions import NoSuchElementException\n",
    "\n",
    "from selenium.webdriver.support.ui import Select\n",
    "from selenium.webdriver.common.by import By\n",
    "from selenium.webdriver.common.keys import Keys\n",
    "from selenium.webdriver.common.alert import Alert\n"
   ]
  },
  {
   "cell_type": "code",
   "execution_count": 15,
   "metadata": {},
   "outputs": [],
   "source": [
    "\n",
    "options = Options()\n",
    "\n",
    "user_agent = \"Mozilla/5.0 (Windows NT 10.0; Win64; x64) AppleWebKit/537.36 (KHTML, like Gecko) Chrome/119.0.0.0 Safari/537.36\",\n",
    "# user_data = \"내가 원하는 경로\"\n",
    "\n",
    "options.add_argument(f\"user-agent={user_agent}\")\n",
    "# options.add_argument(f\"user-data-dir={user_data}\")\n",
    "options.add_experimental_option(\"detach\", True) # 화면이 꺼지지 않고 유지\n",
    "\n",
    "\n",
    "options.add_argument('--disable-blink-features=AutomationControlled')\n",
    "# navator.webdriver True 옵션 한줄로 로봇아닌 사람\n"
   ]
  },
  {
   "cell_type": "code",
   "execution_count": 16,
   "metadata": {},
   "outputs": [],
   "source": [
    "def rdtime_12():\n",
    "    time.sleep(random.uniform(1,2))\n",
    "    return\n",
    "def rdtime_23():\n",
    "    time.sleep(random.uniform(2,3))\n",
    "    return"
   ]
  },
  {
   "cell_type": "code",
   "execution_count": 17,
   "metadata": {},
   "outputs": [
    {
     "name": "stdout",
     "output_type": "stream",
     "text": [
      "1002338\n",
      "7911301935\n"
     ]
    }
   ],
   "source": [
    "#################굽네홈 로그인\n",
    "driver = webdriver.Chrome(options=options)\n",
    "rdtime_23()\n",
    "f = open ('idpw.txt','r',encoding='UTF8')\n",
    "bid_pw = f.readlines()\n",
    "bid_pw = [line.rstrip('\\n') for line in bid_pw]\n",
    "print(bid_pw[13])\n",
    "print(bid_pw[14])\n",
    "driver.get('http://office.goobne.co.kr:9494/office/')\n",
    "rdtime_23()\n",
    "rdtime_23()\n",
    "매장관리자 = driver.find_element(By.XPATH, '//*[text() = \"매장관리자\"]').click()\n",
    "rdtime_23()\n",
    "굽_아이디 = driver.find_element(By.ID, 'userid').send_keys(bid_pw[13])\n",
    "rdtime_23()\n",
    "굽_비번 = driver.find_element(By.ID, value='passwd').send_keys(bid_pw[14])\n",
    "rdtime_23()\n",
    "로그인클릭 = driver.find_element(By.ID, 'lgnact').click()\n",
    "rdtime_23()"
   ]
  },
  {
   "cell_type": "code",
   "execution_count": 18,
   "metadata": {},
   "outputs": [],
   "source": [
    "#################################굽네홈 품절해제\n",
    "try:\n",
    "    rdtime_23()\n",
    "    driver.get('http://office.goobne.co.kr:9494/office/menu/soldout_list')\n",
    "\n",
    "\n",
    "except:\n",
    "    rdtime_12()"
   ]
  },
  {
   "cell_type": "code",
   "execution_count": 30,
   "metadata": {},
   "outputs": [
    {
     "name": "stdout",
     "output_type": "stream",
     "text": [
      "0\n",
      "xxx\n"
     ]
    }
   ],
   "source": [
    "조회된 = driver.find_elements(By.XPATH, '//td[contains(text(),\"조회된 메뉴가 존재하지\")]')\n",
    "조회여부 = (len(조회된))\n",
    "print(조회여부)\n",
    "if 조회여부 == 0:\n",
    "    print('xxx')\n",
    "else:\n",
    "    print('0000')"
   ]
  },
  {
   "cell_type": "code",
   "execution_count": 33,
   "metadata": {},
   "outputs": [
    {
     "name": "stdout",
     "output_type": "stream",
     "text": [
      "0\n",
      "0000\n"
     ]
    }
   ],
   "source": [
    "######################굽네홈 품절해제\n",
    "try:\n",
    "    # 검색어 = 엔트리.get()\n",
    "\n",
    "    driver.get('http://office.goobne.co.kr:9494/office/menu/soldout_list')\n",
    "    rdtime_23()\n",
    "    판매여부 = driver.find_element(By.XPATH, '//span[text() = \"선택\"]').click()\n",
    "    rdtime_23()\n",
    "    판매 = driver.find_element(By.XPATH, '//li[text() = \"일시품절\"]').click()\n",
    "    rdtime_23()    \n",
    "    검색어입력 = driver.find_element(By.ID, 'search_txt').send_keys('검색어')\n",
    "    rdtime_23()\n",
    "    조회하기 = driver.find_element(By.XPATH, '//span[text() = \"조회하기\"]').click()\n",
    "    rdtime_23()\n",
    "    \n",
    "    조회된 = driver.find_elements(By.XPATH, '//td[contains(text(),\"조회된 메뉴가\")]')\n",
    "    조회여부 = (len(조회된))\n",
    "    print(조회여부)\n",
    "    if 조회여부 != 0:\n",
    "        \n",
    "        전체선택 = driver.find_element(By.ID, 'All').click()\n",
    "        rdtime_23()\n",
    "        선택상태변경 = driver.find_element(By.XPATH, '//span[text() = \"선택 상태변경\"]').click()\n",
    "        rdtime_23()\n",
    "\n",
    "\n",
    "        판매클릭 = driver.find_element(By.ID, 'check3').click()\n",
    "        rdtime_23()\n",
    "        변경완료 = driver.find_element(By.XPATH, '//button[text() = \"변경완료\"]').click()\n",
    "        rdtime_23()\n",
    "\n",
    "        da = Alert(driver)\n",
    "        da.accept()\n",
    "        rdtime_23()\n",
    "        da = Alert(driver)\n",
    "        da.accept()\n",
    "        rdtime_23()\n",
    "    else:\n",
    "        rdtime_12()\n",
    "\n",
    "except:\n",
    "    rdtime_23()\n"
   ]
  },
  {
   "cell_type": "code",
   "execution_count": 34,
   "metadata": {},
   "outputs": [],
   "source": [
    "###########################품절해제\n",
    "try:\n",
    "    판매클릭 = driver.find_element(By.ID, 'check3').click()\n",
    "    rdtime_23()\n",
    "    변경완료 = driver.find_element(By.XPATH, '//button[text() = \"변경완료\"]').click()\n",
    "    rdtime_23()\n",
    "\n",
    "    da = Alert(driver)\n",
    "    da.accept()\n",
    "    rdtime_23()\n",
    "    da = Alert(driver)\n",
    "    da.accept()\n",
    "    rdtime_23()\n",
    "except:\n",
    "    rdtime_12()\n"
   ]
  },
  {
   "cell_type": "code",
   "execution_count": 20,
   "metadata": {},
   "outputs": [],
   "source": [
    "################################임시정지\n",
    "try:\n",
    "    rdtime_23()\n",
    "    매장관리 = driver.find_element(By.XPATH, '//span[text() = \"매장 관리\"]').click()\n",
    "    rdtime_23()\n",
    "    매장관리2 = driver.find_element(By.XPATH, '//a[text() = \"매장 관리\"]').click()\n",
    "    rdtime_23()\n",
    "    주문가능 = driver.find_element(By.XPATH, '//span[text() = \"주문가능\"]').click()\n",
    "    rdtime_23()    \n",
    "    주문불가능 = driver.find_element(By.XPATH, '//li[text() = \"주문불가능\"]').click()\n",
    "    rdtime_23()    \n",
    "    저장 = driver.find_element(By.XPATH, '//span[text() = \"저장\"]').click()\n",
    "    rdtime_23()    \n",
    "    da = Alert(driver)\n",
    "    da.accept()\n",
    "    rdtime_23()\n",
    "    da = Alert(driver)\n",
    "    da.accept()\n",
    "    rdtime_23()\n",
    "\n",
    "except:\n",
    "    rdtime_12()"
   ]
  },
  {
   "cell_type": "code",
   "execution_count": 47,
   "metadata": {},
   "outputs": [],
   "source": [
    "######################메뉴이동 및 배너클릭 검색\n",
    "try:\n",
    "    # 검색어 = 엔트리.get()\n",
    "\n",
    "    driver.get('http://office.goobne.co.kr:9494/office/menu/soldout_list')\n",
    "    rdtime_23()\n",
    "    판매여부 = driver.find_element(By.XPATH, '//span[text() = \"선택\"]').click()\n",
    "    rdtime_23()\n",
    "    판매 = driver.find_element(By.XPATH, '//li[text() = \"판매\"]').click()\n",
    "    rdtime_23()    \n",
    "    검색어입력 = driver.find_element(By.ID, 'search_txt').send_keys('파스')\n",
    "    rdtime_23()\n",
    "    조회하기 = driver.find_element(By.XPATH, '//span[text() = \"조회하기\"]').click()\n",
    "    rdtime_23()\n",
    "    전체선택 = driver.find_element(By.ID, 'All').click()\n",
    "    rdtime_23()\n",
    "    선택상태변경 = driver.find_element(By.XPATH, '//span[text() = \"선택 상태변경\"]').click()\n",
    "    rdtime_23()\n",
    "    \n",
    "\n",
    "except:\n",
    "    rdtime_23()\n"
   ]
  },
  {
   "cell_type": "code",
   "execution_count": 57,
   "metadata": {},
   "outputs": [],
   "source": [
    "###########################메뉴 품절\n",
    "try:\n",
    "    \n",
    "    품절클릭 = driver.find_element(By.ID, 'check1').click()\n",
    "    rdtime_23()\n",
    "    날짜클릭 = driver.find_element(By.ID, 'datepicker').click()\n",
    "    rdtime_23()\n",
    "    날짜선택 = driver.find_element(By.CSS_SELECTOR, '.ui-state-default.ui-state-highlight.ui-state-hover').click() \n",
    "    rdtime_23()\n",
    "\n",
    "    시간클릭 = driver.find_elements(By.CSS_SELECTOR, '.nice-select.selectpicker')\n",
    "    시간클릭[2].click()\n",
    "    rdtime_23()\n",
    "    시간선택 = driver.find_element(By.XPATH, '//*[@data-value=\"23\"]').click()\n",
    "    rdtime_23()\n",
    "\n",
    "    분클릭 = driver.find_elements(By.CSS_SELECTOR, '.nice-select.selectpicker')\n",
    "    분클릭[3].click()\n",
    "    rdtime_23()\n",
    "    분선택 = driver.find_element(By.XPATH, '//*[@data-value=\"59\"]').click()\n",
    "    rdtime_23()\n",
    "\n",
    "    변경완료 = driver.find_element(By.XPATH, '//button[text() = \"변경완료\"]').click()\n",
    "    rdtime_23()\n",
    "\n",
    "    da = Alert(driver)\n",
    "    da.accept()\n",
    "    rdtime_23()\n",
    "    da = Alert(driver)\n",
    "    da.accept()\n",
    "    rdtime_23()\n",
    "except:\n",
    "    rdtime_12()\n"
   ]
  },
  {
   "cell_type": "code",
   "execution_count": 56,
   "metadata": {},
   "outputs": [],
   "source": [
    "날짜선택 = driver.find_element(By.CSS_SELECTOR, '.ui-state-default.ui-state-highlight.ui-state-hover').click()\n"
   ]
  },
  {
   "cell_type": "code",
   "execution_count": 58,
   "metadata": {},
   "outputs": [],
   "source": [
    "\n",
    "판매여부 = driver.find_element(By.XPATH, '//button[text() = \"변경완료\"]').click()\n",
    "rdtime_12()\n",
    "\n",
    "da = Alert(driver)\n",
    "da.accept()\n",
    "rdtime_23()\n",
    "da = Alert(driver)\n",
    "da.accept()\n",
    "rdtime_23()"
   ]
  },
  {
   "cell_type": "code",
   "execution_count": 89,
   "metadata": {},
   "outputs": [
    {
     "name": "stdout",
     "output_type": "stream",
     "text": [
      "1\n",
      "2\n",
      "1\n",
      "2\n"
     ]
    }
   ],
   "source": [
    "품절체크 = driver.find_elements(By.NAME, 'chk')\n",
    "\n",
    "ss = 0\n",
    "while s3 == 1:\n",
    "    try:\n",
    "        판매중 = driver.find_elements(By.CLASS_NAME, 'e7ls0530.css-1ymnf1a.ebyda14')\n",
    "        판매중[ss].click()\n",
    "        rdtime_12()\n",
    "        rdtime_12()\n",
    "\n",
    "        오늘만품절 = driver.find_elements(By.XPATH, '//li[text() = \"오늘만 품절\"]')\n",
    "        \n",
    "        # 오늘만품절 = driver.find_elements(By.XPATH, '//li[text() = \"오늘만 품절\"]')\n",
    "        print(len(오늘만품절))\n",
    "        오늘만품절[0].click()\n",
    "        rdtime_23()\n",
    "        변경완료 = driver.find_elements(By.CLASS_NAME, 'button.button-size--default.button--primaryContained')\n",
    "        print(len(변경완료))\n",
    "        변경완료[1].click()\n",
    "        rdtime_23()\n",
    "        ss +=1\n",
    "    except:\n",
    "        break"
   ]
  },
  {
   "cell_type": "code",
   "execution_count": 93,
   "metadata": {},
   "outputs": [],
   "source": [
    "\n",
    "\n",
    "옵션입력 = driver.find_element(By.CLASS_NAME, 'css-1mto5yn.e1veir0o3')\n",
    "옵션입력.send_keys('파스')\n",
    "rdtime_12()"
   ]
  },
  {
   "cell_type": "code",
   "execution_count": 104,
   "metadata": {},
   "outputs": [
    {
     "name": "stdout",
     "output_type": "stream",
     "text": [
      "1\n",
      "1\n",
      "1\n",
      "1\n"
     ]
    }
   ],
   "source": [
    "s3 = 1\n",
    "ss = 0\n",
    "while s3 == 1:\n",
    "    try:\n",
    "        판매중 = driver.find_element(By.XPATH, '//div[text() = \"판매중\"]')\n",
    "        # print(len(판매중))\n",
    "        판매중.click()\n",
    "        rdtime_12()\n",
    "        rdtime_12()\n",
    "\n",
    "        오늘만품절 = driver.find_elements(By.XPATH, '//li[text() = \"오늘만 품절\"]')\n",
    "        \n",
    "        # 오늘만품절 = driver.find_elements(By.XPATH, '//li[text() = \"오늘만 품절\"]')\n",
    "        print(len(오늘만품절))\n",
    "        오늘만품절[0].click()\n",
    "        rdtime_23()\n",
    "        # 변경완료 = driver.find_elements(By.CLASS_NAME, 'button.button-size--default.button--primaryContained')\n",
    "        # print(len(변경완료))\n",
    "        # 변경완료[1].click()\n",
    "        # rdtime_23()\n",
    "        ss +=1\n",
    "    except:\n",
    "        break"
   ]
  },
  {
   "cell_type": "code",
   "execution_count": 15,
   "metadata": {},
   "outputs": [
    {
     "name": "stdout",
     "output_type": "stream",
     "text": [
      "3\n",
      "<selenium.webdriver.remote.webelement.WebElement (session=\"dbeed119df974e6d627d8a026ac64e07\", element=\"8DF5CBB6E0CED7E7B4D9E43A747B82ED_element_129\")>\n",
      "1\n",
      "2\n",
      "<selenium.webdriver.remote.webelement.WebElement (session=\"dbeed119df974e6d627d8a026ac64e07\", element=\"8DF5CBB6E0CED7E7B4D9E43A747B82ED_element_147\")>\n"
     ]
    },
    {
     "ename": "StaleElementReferenceException",
     "evalue": "Message: stale element reference: stale element not found\n  (Session info: chrome=120.0.6099.199); For documentation on this error, please visit: https://www.selenium.dev/documentation/webdriver/troubleshooting/errors#stale-element-reference-exception\nStacktrace:\n\tGetHandleVerifier [0x00007FF64C7A2142+3514994]\n\t(No symbol) [0x00007FF64C3C0CE2]\n\t(No symbol) [0x00007FF64C2676AA]\n\t(No symbol) [0x00007FF64C26CFC0]\n\t(No symbol) [0x00007FF64C26F38F]\n\t(No symbol) [0x00007FF64C26F480]\n\t(No symbol) [0x00007FF64C2B3569]\n\t(No symbol) [0x00007FF64C2A6966]\n\t(No symbol) [0x00007FF64C2D5FEA]\n\t(No symbol) [0x00007FF64C2A63B6]\n\t(No symbol) [0x00007FF64C2D6490]\n\t(No symbol) [0x00007FF64C2F28F6]\n\t(No symbol) [0x00007FF64C2D5D93]\n\t(No symbol) [0x00007FF64C2A4BDC]\n\t(No symbol) [0x00007FF64C2A5C64]\n\tGetHandleVerifier [0x00007FF64C7CE16B+3695259]\n\tGetHandleVerifier [0x00007FF64C826737+4057191]\n\tGetHandleVerifier [0x00007FF64C81E4E3+4023827]\n\tGetHandleVerifier [0x00007FF64C4F04F9+689705]\n\t(No symbol) [0x00007FF64C3CC048]\n\t(No symbol) [0x00007FF64C3C8044]\n\t(No symbol) [0x00007FF64C3C81C9]\n\t(No symbol) [0x00007FF64C3B88C4]\n\tBaseThreadInitThunk [0x00007FF9153D257D+29]\n\tRtlUserThreadStart [0x00007FF91694AA58+40]\n",
     "output_type": "error",
     "traceback": [
      "\u001b[1;31m---------------------------------------------------------------------------\u001b[0m",
      "\u001b[1;31mStaleElementReferenceException\u001b[0m            Traceback (most recent call last)",
      "Cell \u001b[1;32mIn[15], line 7\u001b[0m\n\u001b[0;32m      5\u001b[0m \u001b[38;5;28mprint\u001b[39m(ii)\n\u001b[0;32m      6\u001b[0m rdtime_12()\n\u001b[1;32m----> 7\u001b[0m \u001b[43mii\u001b[49m\u001b[38;5;241;43m.\u001b[39;49m\u001b[43mclick\u001b[49m\u001b[43m(\u001b[49m\u001b[43m)\u001b[49m\n\u001b[0;32m      8\u001b[0m rdtime_23()\n\u001b[0;32m      9\u001b[0m 오늘만품절 \u001b[38;5;241m=\u001b[39m driver\u001b[38;5;241m.\u001b[39mfind_elements(By\u001b[38;5;241m.\u001b[39mXPATH, \u001b[38;5;124m'\u001b[39m\u001b[38;5;124m//*[@id=\u001b[39m\u001b[38;5;124m\"\u001b[39m\u001b[38;5;124mmerchant-management\u001b[39m\u001b[38;5;124m\"\u001b[39m\u001b[38;5;124m]/div/div/div[2]/div[1]/div/div[6]/div/div[1]/ul/li/div[2]/ul/li[2]\u001b[39m\u001b[38;5;124m'\u001b[39m)\n",
      "File \u001b[1;32mc:\\Users\\surfe\\AppData\\Local\\Programs\\Python\\Python312\\Lib\\site-packages\\selenium\\webdriver\\remote\\webelement.py:93\u001b[0m, in \u001b[0;36mWebElement.click\u001b[1;34m(self)\u001b[0m\n\u001b[0;32m     91\u001b[0m \u001b[38;5;28;01mdef\u001b[39;00m \u001b[38;5;21mclick\u001b[39m(\u001b[38;5;28mself\u001b[39m) \u001b[38;5;241m-\u001b[39m\u001b[38;5;241m>\u001b[39m \u001b[38;5;28;01mNone\u001b[39;00m:\n\u001b[0;32m     92\u001b[0m \u001b[38;5;250m    \u001b[39m\u001b[38;5;124;03m\"\"\"Clicks the element.\"\"\"\u001b[39;00m\n\u001b[1;32m---> 93\u001b[0m     \u001b[38;5;28;43mself\u001b[39;49m\u001b[38;5;241;43m.\u001b[39;49m\u001b[43m_execute\u001b[49m\u001b[43m(\u001b[49m\u001b[43mCommand\u001b[49m\u001b[38;5;241;43m.\u001b[39;49m\u001b[43mCLICK_ELEMENT\u001b[49m\u001b[43m)\u001b[49m\n",
      "File \u001b[1;32mc:\\Users\\surfe\\AppData\\Local\\Programs\\Python\\Python312\\Lib\\site-packages\\selenium\\webdriver\\remote\\webelement.py:394\u001b[0m, in \u001b[0;36mWebElement._execute\u001b[1;34m(self, command, params)\u001b[0m\n\u001b[0;32m    392\u001b[0m     params \u001b[38;5;241m=\u001b[39m {}\n\u001b[0;32m    393\u001b[0m params[\u001b[38;5;124m\"\u001b[39m\u001b[38;5;124mid\u001b[39m\u001b[38;5;124m\"\u001b[39m] \u001b[38;5;241m=\u001b[39m \u001b[38;5;28mself\u001b[39m\u001b[38;5;241m.\u001b[39m_id\n\u001b[1;32m--> 394\u001b[0m \u001b[38;5;28;01mreturn\u001b[39;00m \u001b[38;5;28;43mself\u001b[39;49m\u001b[38;5;241;43m.\u001b[39;49m\u001b[43m_parent\u001b[49m\u001b[38;5;241;43m.\u001b[39;49m\u001b[43mexecute\u001b[49m\u001b[43m(\u001b[49m\u001b[43mcommand\u001b[49m\u001b[43m,\u001b[49m\u001b[43m \u001b[49m\u001b[43mparams\u001b[49m\u001b[43m)\u001b[49m\n",
      "File \u001b[1;32mc:\\Users\\surfe\\AppData\\Local\\Programs\\Python\\Python312\\Lib\\site-packages\\selenium\\webdriver\\remote\\webdriver.py:347\u001b[0m, in \u001b[0;36mWebDriver.execute\u001b[1;34m(self, driver_command, params)\u001b[0m\n\u001b[0;32m    345\u001b[0m response \u001b[38;5;241m=\u001b[39m \u001b[38;5;28mself\u001b[39m\u001b[38;5;241m.\u001b[39mcommand_executor\u001b[38;5;241m.\u001b[39mexecute(driver_command, params)\n\u001b[0;32m    346\u001b[0m \u001b[38;5;28;01mif\u001b[39;00m response:\n\u001b[1;32m--> 347\u001b[0m     \u001b[38;5;28;43mself\u001b[39;49m\u001b[38;5;241;43m.\u001b[39;49m\u001b[43merror_handler\u001b[49m\u001b[38;5;241;43m.\u001b[39;49m\u001b[43mcheck_response\u001b[49m\u001b[43m(\u001b[49m\u001b[43mresponse\u001b[49m\u001b[43m)\u001b[49m\n\u001b[0;32m    348\u001b[0m     response[\u001b[38;5;124m\"\u001b[39m\u001b[38;5;124mvalue\u001b[39m\u001b[38;5;124m\"\u001b[39m] \u001b[38;5;241m=\u001b[39m \u001b[38;5;28mself\u001b[39m\u001b[38;5;241m.\u001b[39m_unwrap_value(response\u001b[38;5;241m.\u001b[39mget(\u001b[38;5;124m\"\u001b[39m\u001b[38;5;124mvalue\u001b[39m\u001b[38;5;124m\"\u001b[39m, \u001b[38;5;28;01mNone\u001b[39;00m))\n\u001b[0;32m    349\u001b[0m     \u001b[38;5;28;01mreturn\u001b[39;00m response\n",
      "File \u001b[1;32mc:\\Users\\surfe\\AppData\\Local\\Programs\\Python\\Python312\\Lib\\site-packages\\selenium\\webdriver\\remote\\errorhandler.py:229\u001b[0m, in \u001b[0;36mErrorHandler.check_response\u001b[1;34m(self, response)\u001b[0m\n\u001b[0;32m    227\u001b[0m         alert_text \u001b[38;5;241m=\u001b[39m value[\u001b[38;5;124m\"\u001b[39m\u001b[38;5;124malert\u001b[39m\u001b[38;5;124m\"\u001b[39m]\u001b[38;5;241m.\u001b[39mget(\u001b[38;5;124m\"\u001b[39m\u001b[38;5;124mtext\u001b[39m\u001b[38;5;124m\"\u001b[39m)\n\u001b[0;32m    228\u001b[0m     \u001b[38;5;28;01mraise\u001b[39;00m exception_class(message, screen, stacktrace, alert_text)  \u001b[38;5;66;03m# type: ignore[call-arg]  # mypy is not smart enough here\u001b[39;00m\n\u001b[1;32m--> 229\u001b[0m \u001b[38;5;28;01mraise\u001b[39;00m exception_class(message, screen, stacktrace)\n",
      "\u001b[1;31mStaleElementReferenceException\u001b[0m: Message: stale element reference: stale element not found\n  (Session info: chrome=120.0.6099.199); For documentation on this error, please visit: https://www.selenium.dev/documentation/webdriver/troubleshooting/errors#stale-element-reference-exception\nStacktrace:\n\tGetHandleVerifier [0x00007FF64C7A2142+3514994]\n\t(No symbol) [0x00007FF64C3C0CE2]\n\t(No symbol) [0x00007FF64C2676AA]\n\t(No symbol) [0x00007FF64C26CFC0]\n\t(No symbol) [0x00007FF64C26F38F]\n\t(No symbol) [0x00007FF64C26F480]\n\t(No symbol) [0x00007FF64C2B3569]\n\t(No symbol) [0x00007FF64C2A6966]\n\t(No symbol) [0x00007FF64C2D5FEA]\n\t(No symbol) [0x00007FF64C2A63B6]\n\t(No symbol) [0x00007FF64C2D6490]\n\t(No symbol) [0x00007FF64C2F28F6]\n\t(No symbol) [0x00007FF64C2D5D93]\n\t(No symbol) [0x00007FF64C2A4BDC]\n\t(No symbol) [0x00007FF64C2A5C64]\n\tGetHandleVerifier [0x00007FF64C7CE16B+3695259]\n\tGetHandleVerifier [0x00007FF64C826737+4057191]\n\tGetHandleVerifier [0x00007FF64C81E4E3+4023827]\n\tGetHandleVerifier [0x00007FF64C4F04F9+689705]\n\t(No symbol) [0x00007FF64C3CC048]\n\t(No symbol) [0x00007FF64C3C8044]\n\t(No symbol) [0x00007FF64C3C81C9]\n\t(No symbol) [0x00007FF64C3B88C4]\n\tBaseThreadInitThunk [0x00007FF9153D257D+29]\n\tRtlUserThreadStart [0x00007FF91694AA58+40]\n"
     ]
    }
   ],
   "source": [
    "\n",
    "\n",
    "판매중 = driver.find_elements(By.CLASS_NAME, 'e7ls0530.css-1ymnf1a.ebyda14')\n",
    "print(len(판매중))\n",
    "# ss1 = 0\n",
    "for ii in 판매중:\n",
    "    print(ii)\n",
    "    rdtime_12()\n",
    "    ii.click()\n",
    "    rdtime_23()\n",
    "    오늘만품절 = driver.find_elements(By.XPATH, '//*[@id=\"merchant-management\"]/div/div/div[2]/div[1]/div/div[6]/div/div[1]/ul/li/div[2]/ul/li[2]')\n",
    "    print(len(오늘만품절))\n",
    "    오늘만품절[0].click()\n",
    "    rdtime_23()\n",
    "    변경완료 = driver.find_elements(By.CLASS_NAME, 'button.button-size--default.button--primaryContained')\n",
    "    print(len(변경완료))\n",
    "    변경완료[1].click()\n",
    "    rdtime_23()\n",
    "    # ss1 += 1\n",
    "    rdtime_23()"
   ]
  },
  {
   "cell_type": "code",
   "execution_count": 59,
   "metadata": {},
   "outputs": [
    {
     "name": "stdout",
     "output_type": "stream",
     "text": [
      "2\n"
     ]
    }
   ],
   "source": [
    "\n",
    "변경완료 = driver.find_elements(By.CLASS_NAME, 'button.button-size--default.button--primaryContained')\n",
    "print(len(변경완료))\n",
    "변경완료[1].click()\n",
    "rdtime_23()\n",
    "\n"
   ]
  },
  {
   "cell_type": "code",
   "execution_count": 18,
   "metadata": {},
   "outputs": [
    {
     "name": "stdout",
     "output_type": "stream",
     "text": [
      "<selenium.webdriver.remote.webelement.WebElement (session=\"3ecb7115b1448c8d552e75adc6c80e3a\", element=\"77E3CC87C5121275EB9EF79AE8ED97E6_element_60\")>\n"
     ]
    }
   ],
   "source": [
    "# rdtime_12()\n",
    "옵션품절클릭 = driver.find_element(By.LINK_TEXT, '옵션품절')\n",
    "print(옵션품절클릭)\n",
    "if 옵션품절클릭 != 0 :\n",
    "    옵션품절클릭.click()\n",
    "\n"
   ]
  },
  {
   "cell_type": "code",
   "execution_count": 35,
   "metadata": {},
   "outputs": [],
   "source": [
    "\n",
    "s3 = 1\n",
    "while s3 == 1:\n",
    "    try:\n",
    "        옵션품절 = driver.find_element(By.LINK_TEXT, '품절')\n",
    "        옵션품절.click()\n",
    "        rdtime_12()\n",
    "        rdtime_12()\n",
    "        확인2 = driver.find_elements(By.CSS_SELECTOR, '.w2trigger.btn')\n",
    "        확인2[1].click()\n",
    "        rdtime_23()\n",
    "        확인3 = driver.find_elements(By.CSS_SELECTOR, '.w2trigger.btn')\n",
    "        확인3[2].click()\n",
    "        rdtime_23()\n",
    "    except:\n",
    "        break\n",
    "\n"
   ]
  },
  {
   "cell_type": "code",
   "execution_count": 35,
   "metadata": {},
   "outputs": [],
   "source": [
    "s2 = 1\n",
    "while s2 == 1:\n",
    "    try:\n",
    "        품절목록 = driver.find_element(By.LINK_TEXT, '품절')\n",
    "    # print(len(품절목록))\n",
    "    # if 품절목록 != 0:\n",
    "        품절목록.click()\n",
    "        rdtime_12()\n",
    "        rdtime_12()\n",
    "        확인 = driver.find_elements(By.CSS_SELECTOR, '.w2trigger.btn')\n",
    "        확인[3].click()\n",
    "        rdtime_23()\n",
    "    except:\n",
    "        break"
   ]
  },
  {
   "cell_type": "code",
   "execution_count": 22,
   "metadata": {},
   "outputs": [
    {
     "name": "stdout",
     "output_type": "stream",
     "text": [
      "2\n",
      "<selenium.webdriver.remote.webelement.WebElement (session=\"3a1910b9a5095cdd6d44289bd6454a71\", element=\"CD843262E7A3345C8E56CEB9FE52DF3A_element_277\")>\n"
     ]
    },
    {
     "ename": "TypeError",
     "evalue": "'WebElement' object is not subscriptable",
     "output_type": "error",
     "traceback": [
      "\u001b[1;31m---------------------------------------------------------------------------\u001b[0m",
      "\u001b[1;31mTypeError\u001b[0m                                 Traceback (most recent call last)",
      "Cell \u001b[1;32mIn[22], line 9\u001b[0m\n\u001b[0;32m      7\u001b[0m rdtime_12()\n\u001b[0;32m      8\u001b[0m \u001b[38;5;28mprint\u001b[39m(i)\n\u001b[1;32m----> 9\u001b[0m \u001b[43mi\u001b[49m\u001b[43m[\u001b[49m\u001b[43m품절목록\u001b[49m\u001b[43m]\u001b[49m\u001b[38;5;241m.\u001b[39mclick()\n\u001b[0;32m     10\u001b[0m rdtime_12()\n\u001b[0;32m     11\u001b[0m rdtime_12()\n",
      "\u001b[1;31mTypeError\u001b[0m: 'WebElement' object is not subscriptable"
     ]
    }
   ],
   "source": [
    "rdtime_12()\n",
    "품절목록 = driver.find_elements(By.LINK_TEXT, '품절')\n",
    "# 품절목록 = driver.find_elements(By.CSS_SELECTOR, '.w2anchor2.btn_bg.soldout')\n",
    "print(len(품절목록))\n",
    "s1 = 0\n",
    "for i in 품절목록:\n",
    "    rdtime_12()\n",
    "    print(i)\n",
    "    i[품절목록].click()\n",
    "    rdtime_12()\n",
    "    rdtime_12()\n",
    "    확인 = driver.find_elements(By.CSS_SELECTOR, '.w2trigger.btn')\n",
    "    확인[3].click()\n",
    "    rdtime_23()\n",
    "\n",
    "    rdtime_12()\n",
    "    s1 += 1\n",
    "    "
   ]
  },
  {
   "cell_type": "code",
   "execution_count": null,
   "metadata": {},
   "outputs": [],
   "source": [
    "mf_wfm_contents_wfm_tabcontents_confirm6986850631365996_wframe_btn_yes"
   ]
  },
  {
   "cell_type": "code",
   "execution_count": null,
   "metadata": {},
   "outputs": [],
   "source": []
  },
  {
   "cell_type": "code",
   "execution_count": 50,
   "metadata": {},
   "outputs": [
    {
     "data": {
      "text/plain": [
       "1.0"
      ]
     },
     "execution_count": 50,
     "metadata": {},
     "output_type": "execute_result"
    }
   ],
   "source": [
    "3 / 3\n",
    "\n",
    "# 품절 = driver.find_element(By.NAME, value='keyword')\n",
    "# rdtime_12()\n",
    "# 품절.send_keys('파스')\n",
    "# rdtime_12()\n"
   ]
  },
  {
   "cell_type": "code",
   "execution_count": 23,
   "metadata": {},
   "outputs": [],
   "source": [
    "\n",
    "# # 검색결과 = driver.find_elements(By.XPATH, '//*[contains(text(), \"하루\")]')\n",
    "# 검색결과 = driver.find_elements(By.CSS_SELECTOR, '.sc-bgqQcB.cdnbBK.sc-dicizt.ToggleButtonGroup___StyledLabelButton-sc-am0hqm-1.eECEbI.hJHCmU')\n",
    "# print(검색결과)\n",
    "# print(len(검색결과))\n",
    "\n",
    "# for sss in 검색결과:\n",
    "#     sss.click()\n",
    "#     rdtime_12()\n",
    "\n",
    "\n"
   ]
  },
  {
   "cell_type": "code",
   "execution_count": 28,
   "metadata": {},
   "outputs": [],
   "source": [
    "rdtime_12()\n",
    "옵션품절클릭 = driver.find_element(By.XPATH, '//*[@id=\"common-layout-wrapper-id\"]/div[2]/div[1]/div[2]/a').click()\n",
    "rdtime_12()\n",
    "# //*[@id=\"common-layout-wrapper-id\"]/div[2]/div[1]/div[2]/a"
   ]
  },
  {
   "cell_type": "code",
   "execution_count": null,
   "metadata": {},
   "outputs": [],
   "source": []
  },
  {
   "cell_type": "code",
   "execution_count": 29,
   "metadata": {},
   "outputs": [],
   "source": [
    "rdtime_12()\n",
    "옵션품절 = driver.find_element(By.NAME, value='keyword')\n",
    "rdtime_12()\n",
    "옵션품절.send_keys('파스')\n",
    "rdtime_12()\n"
   ]
  },
  {
   "cell_type": "code",
   "execution_count": 33,
   "metadata": {},
   "outputs": [],
   "source": [
    "try:\n",
    "    필수선택 = driver.find_element(By.CSS_SELECTOR, value='.sc-ewnqHT.bnlUBh')\n",
    "    필수선택.click()\n",
    "except:\n",
    "    print('dddddddddddddddddddddd')\n"
   ]
  }
 ],
 "metadata": {
  "kernelspec": {
   "display_name": "Python 3",
   "language": "python",
   "name": "python3"
  },
  "language_info": {
   "codemirror_mode": {
    "name": "ipython",
    "version": 3
   },
   "file_extension": ".py",
   "mimetype": "text/x-python",
   "name": "python",
   "nbconvert_exporter": "python",
   "pygments_lexer": "ipython3",
   "version": "3.12.0"
  }
 },
 "nbformat": 4,
 "nbformat_minor": 2
}
