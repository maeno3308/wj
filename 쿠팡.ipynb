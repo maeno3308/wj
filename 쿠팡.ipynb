{
 "cells": [
  {
   "cell_type": "code",
   "execution_count": 1,
   "metadata": {},
   "outputs": [],
   "source": [
    "import os\n",
    "import time\n",
    "import random\n",
    "\n",
    "from selenium import webdriver\n",
    "from selenium.webdriver.chrome.options import Options\n",
    "from selenium.common.exceptions import NoSuchElementException\n",
    "\n",
    "from selenium.webdriver.support.ui import Select\n",
    "from selenium.webdriver.common.by import By\n",
    "from selenium.webdriver.common.keys import Keys"
   ]
  },
  {
   "cell_type": "code",
   "execution_count": 2,
   "metadata": {},
   "outputs": [],
   "source": [
    "\n",
    "options = Options()\n",
    "\n",
    "user_agent = \"Mozilla/5.0 (Windows NT 10.0; Win64; x64) AppleWebKit/537.36 (KHTML, like Gecko) Chrome/119.0.0.0 Safari/537.36\",\n",
    "# user_data = \"내가 원하는 경로\"\n",
    "\n",
    "options.add_argument(f\"user-agent={user_agent}\")\n",
    "# options.add_argument(f\"user-data-dir={user_data}\")\n",
    "options.add_experimental_option(\"detach\", True) # 화면이 꺼지지 않고 유지\n",
    "\n",
    "\n",
    "options.add_argument('--disable-blink-features=AutomationControlled')\n",
    "# navator.webdriver True 옵션 한줄로 로봇아닌 사람\n"
   ]
  },
  {
   "cell_type": "code",
   "execution_count": 3,
   "metadata": {},
   "outputs": [],
   "source": [
    "def rdtime_12():\n",
    "    time.sleep(random.uniform(1,2))\n",
    "    return\n",
    "def rdtime_23():\n",
    "    time.sleep(random.uniform(2,3))\n",
    "    return"
   ]
  },
  {
   "cell_type": "code",
   "execution_count": 4,
   "metadata": {},
   "outputs": [],
   "source": [
    "# driver = webdriver.Chrome(options=options)\n",
    "# driver.get('https://store.coupangeats.com/merchant/login')\n",
    "\n",
    "# f = open ('idpw.txt','r',encoding='UTF8')\n",
    "# bid_pw = f.readlines()\n",
    "# bid_pw = [line.rstrip('\\n') for line in bid_pw]\n",
    "# print(bid_pw[10])\n",
    "# print(bid_pw[11])\n",
    "# rdtime_23()\n",
    "\n",
    "\n",
    "# b_ids = driver.find_element(By.NAME, value=\"id\")\n",
    "# b_ids.send_keys(bid_pw[10])\n",
    "# rdtime_23()\n",
    "\n",
    "# b_pws = driver.find_element(By.NAME, value=\"password\")\n",
    "# b_pws.send_keys(bid_pw[11])\n",
    "# rdtime_23()\n",
    "\n",
    "# 로그인클릭 = driver.find_element(By.TAG_NAME, 'button').click()\n",
    "# rdtime_23()\n",
    "# rdtime_23()"
   ]
  },
  {
   "cell_type": "code",
   "execution_count": 5,
   "metadata": {},
   "outputs": [],
   "source": [
    "########################쿠팡로그인\n",
    "try:\n",
    "    driver = webdriver.Chrome(options=options)\n",
    "    driver.get('https://store.coupangeats.com/merchant/login')\n",
    "    rdtime_23()\n",
    "    rdtime_23()\n",
    "\n",
    "\n",
    "    f = open ('idpw.txt','r',encoding='UTF8')\n",
    "    bid_pw = f.readlines()\n",
    "    bid_pw = [line.rstrip('\\n') for line in bid_pw]\n",
    "    # print(bid_pw[10])\n",
    "    # print(bid_pw[11])\n",
    "    쿠_아이디 = driver.find_element(By.ID, 'loginId').send_keys(bid_pw[10])\n",
    "    rdtime_23()\n",
    "    쿠_비번 = driver.find_element(By.ID, value='password').send_keys(bid_pw[11])\n",
    "    rdtime_23()\n",
    "\n",
    "    로그인클릭 = driver.find_element(By.TAG_NAME, 'button').click()\n",
    "    rdtime_23()\n",
    "    rdtime_23()\n",
    "except:\n",
    "    rdtime_12()"
   ]
  },
  {
   "cell_type": "code",
   "execution_count": 18,
   "metadata": {},
   "outputs": [],
   "source": [
    "#####################쿠팡 품절해제\n",
    "driver.get('https://store.coupangeats.com/merchant/management/menu/')\n",
    "rdtime_23()\n",
    "rdtime_23()\n",
    "\n",
    "################################메뉴품절\n",
    "검색어입력 = driver.find_element(By.XPATH, '//input[@placeholder=\"검색\"]').send_keys('맵달')\n",
    "rdtime_23()\n",
    "xx = 0\n",
    "while True:\n",
    "    try:\n",
    "        # 판매중 = d\n",
    "        오늘만품절 = driver.find_element(By.XPATH, '//div[text() = \"오늘만 품절\"]').click()\n",
    "        rdtime_23()\n",
    "        판매중 = driver.find_element(By.XPATH, '//li[text() = \"판매중\"]').click()\n",
    "        rdtime_23()\n",
    "        변경완료 = driver.find_element(By.XPATH, '//span[text()=\"변경완료\"]').click()\n",
    "        rdtime_23()\n",
    "        xx += 1\n",
    "    except:\n",
    "        break\n",
    "\n",
    "################################옵션품절\n",
    "검색어입력 = driver.find_element(By.XPATH, '//input[@placeholder=\"검색\"]').send_keys('맵달')\n",
    "rdtime_23()\n",
    "xx = 0\n",
    "while True:\n",
    "    try:\n",
    "        오늘만품절 = driver.find_element(By.XPATH, '//div[text() = \"오늘만 품절\"]').click()\n",
    "        rdtime_23()\n",
    "        판매중 = driver.find_element(By.XPATH, '//li[text() = \"판매중\"]').click()\n",
    "        rdtime_23()\n",
    "        xx += 1\n",
    "    except:\n",
    "        break\n"
   ]
  },
  {
   "cell_type": "code",
   "execution_count": 13,
   "metadata": {},
   "outputs": [],
   "source": [
    "오늘만품절 = driver.find_element(By.XPATH, '//div[text() = \"오늘만 품절\"]').click()\n"
   ]
  },
  {
   "cell_type": "code",
   "execution_count": 6,
   "metadata": {},
   "outputs": [],
   "source": [
    "#############쿠팡댓글달기\n",
    "\n",
    "try:\n",
    "    driver.get('https://store.coupangeats.com/merchant/management/reviews')\n",
    "    rdtime_23()\n",
    "except:\n",
    "    rdtime_23()\n",
    "\n",
    "try:\n",
    "    사장님댓글달기 = driver.find_elements(By.XPATH, '//button[text()=\"사장님 댓글 등록하기\"]')\n",
    "    xx = 0\n",
    "    for x in 사장님댓글달기:\n",
    "        사장님댓글달기[xx].click()\n",
    "        with open ('g_comment.txt','r',encoding='UTF8') as f:\n",
    "            댓글 = f.readline()\n",
    "            time.sleep(1)\n",
    "            댓글쓰기 = driver.find_element(By.XPATH,'//textarea[@name=\"review\"]')\n",
    "            rdtime_23()\n",
    "            댓글쓰기.send_keys('\\n')\n",
    "\n",
    "            for x in 댓글:\n",
    "                댓글쓰기.send_keys(x)\n",
    "        \n",
    "            rdtime_23()\n",
    "            등록 = driver.find_element(By.XPATH,'//span[text()=\"등록\"]').click()\n",
    "        xx += 1\n",
    "        rdtime_23()\n",
    "\n",
    "except:\n",
    "    rdtime_12()"
   ]
  },
  {
   "cell_type": "code",
   "execution_count": 30,
   "metadata": {},
   "outputs": [],
   "source": [
    "with open ('g_comment.txt','r',encoding='UTF8') as f:\n",
    "    댓글 = f.read()\n",
    "    time.sleep(1)\n",
    "    댓글쓰기 = driver.find_element(By.XPATH,'//textarea[@name=\"review\"]')\n",
    "    rdtime_23()\n",
    "    댓글쓰기.send_keys('\\n')\n",
    "    댓글쓰기.send_keys(댓글)\n",
    "    rdtime_23()\n",
    "    등록 = driver.find_element(By.XPATH,'//span[text()=\"등록\"]').click()\n"
   ]
  },
  {
   "cell_type": "code",
   "execution_count": null,
   "metadata": {},
   "outputs": [],
   "source": []
  },
  {
   "cell_type": "code",
   "execution_count": null,
   "metadata": {},
   "outputs": [],
   "source": [
    "\n",
    "\n",
    "try:\n",
    "    평점 = driver.find_elements(By.CSS_SELECTOR, '.Typography__StyledTypography-sc-r9ksfy-0.cknzqP')\n",
    "    xx = 0\n",
    "    for x in 평점:\n",
    "        점수 = float(평점[xx].text)\n",
    "        if 점수 >= 4.0:\n",
    "            rdtime_23()\n",
    "            댓글쓰기클릭 =  driver.find_elements(By.CSS_SELECTOR, '.sc-dkzDqf.cxmxbn')\n",
    "            print(len(댓글쓰기클릭))\n",
    "            댓글쓰기클릭[0].click()\n",
    "            rdtime_23()\n",
    "            댓글쓰기 = driver.find_element(By.CSS_SELECTOR, '.ReviewReply__CustomTextarea-sc-1536a88-4.efgGYK')\n",
    "            with open ('g_comment.txt','r',encoding='UTF8') as f:\n",
    "                댓글5 = f.read()\n",
    "            댓글쓰기.send_keys('\\n')\n",
    "            time.sleep(1)\n",
    "            댓글쓰기.send_keys(댓글5)\n",
    "            rdtime_23()\n",
    "            xx += 1\n",
    "        elif 점수 < 4.0:\n",
    "            rdtime_23()\n",
    "            댓글쓰기클릭 =  driver.find_elements(By.CSS_SELECTOR, '.sc-dkzDqf.cxmxbn')\n",
    "            print(len(댓글쓰기클릭))\n",
    "            댓글쓰기클릭[0].click()\n",
    "            rdtime_23()\n",
    "            댓글쓰기 = driver.find_element(By.CSS_SELECTOR, '.ReviewReply__CustomTextarea-sc-1536a88-4.efgGYK')\n",
    "            with open ('b_comment.txt','r',encoding='UTF8') as f:\n",
    "                댓글4 = f.read()\n",
    "            댓글쓰기.send_keys('\\n')\n",
    "            time.sleep(1)\n",
    "            댓글쓰기.send_keys(댓글4)\n",
    "            rdtime_23()            \n",
    "            xx += 1\n",
    "except:\n",
    "    rdtime_12()"
   ]
  },
  {
   "cell_type": "code",
   "execution_count": 5,
   "metadata": {},
   "outputs": [],
   "source": [
    "#################메뉴이동 배너닫기\n",
    "\n",
    "driver.get('https://store.coupangeats.com/merchant/management/menu/')\n",
    "rdtime_23()\n",
    "rdtime_23()\n",
    "try:\n",
    "    배너닫기 = driver.find_element(By.CSS_SELECTOR, '.dialog-modal-wrapper__body--close-button').click()\n",
    "    rdtime_23()\n",
    "    배너닫기2 = driver.find_element(By.XPATH, '//span[text() = \"확인\"]').click()\n",
    "    rdtime_23()        \n",
    "except:\n",
    "    rdtime_12()"
   ]
  },
  {
   "cell_type": "code",
   "execution_count": 83,
   "metadata": {},
   "outputs": [],
   "source": [
    "################################메뉴품절\n",
    "검색어입력 = driver.find_element(By.XPATH, '//input[@placeholder=\"검색\"]').send_keys('파스')\n",
    "rdtime_23()\n",
    "xx = 0\n",
    "while True:\n",
    "    try:\n",
    "        판매중 = driver.find_elements(By.CLASS_NAME, 'e7ls0530.css-1ymnf1a.ebyda14')\n",
    "        판매중[xx].click()\n",
    "        rdtime_23()\n",
    "        오늘만품절 = driver.find_element(By.XPATH, '//li[text() = \"오늘만 품절\"]').click()\n",
    "        rdtime_23()\n",
    "        변경완료 = driver.find_element(By.XPATH, '//span[text()=\"변경완료\"]').click()\n",
    "        rdtime_23()\n",
    "        xx += 1\n",
    "    except:\n",
    "        break"
   ]
  },
  {
   "cell_type": "code",
   "execution_count": 12,
   "metadata": {},
   "outputs": [],
   "source": [
    "###############################옵션품절\n",
    "try:\n",
    "    옵션그룹 = driver.find_element(By.XPATH, '//div[text()=\"옵션 그룹\"]').click()\n",
    "    rdtime_23()\n",
    "    옵션입력 = driver.find_element(By.XPATH, '//input[@placeholder=\"검색\"]').send_keys('파스')\n",
    "    rdtime_23()\n",
    "except:\n",
    "    rdtime_12()\n",
    "\n",
    "xx = 1\n",
    "while True:\n",
    "    try:\n",
    "        판매중 = driver.find_elements(By.CSS_SELECTOR, '.css-k0likx.ebyda11')\n",
    "        판매중[xx].click()\n",
    "        rdtime_23()\n",
    "        오늘만품절 = driver.find_element(By.XPATH, '//li[text() = \"오늘만 품절\"]').click()\n",
    "        rdtime_23()\n",
    "        xx += 1\n",
    "    except:\n",
    "        break"
   ]
  },
  {
   "cell_type": "code",
   "execution_count": 7,
   "metadata": {},
   "outputs": [
    {
     "name": "stdout",
     "output_type": "stream",
     "text": [
      "5\n"
     ]
    }
   ],
   "source": [
    "xx = driver.find_elements(By.XPATH,'//div[text()=\"판매중\"]')\n",
    "print(len(xx))\n",
    "# 판매중 = driver.find_elements(By.CLASS_NAME, 'e7ls0530.css-1ymnf1a.ebyda12')\n",
    "\n"
   ]
  },
  {
   "cell_type": "code",
   "execution_count": 33,
   "metadata": {},
   "outputs": [],
   "source": [
    "try:\n",
    "    필수선택 = driver.find_element(By.CSS_SELECTOR, value='.sc-ewnqHT.bnlUBh')\n",
    "    필수선택.click()\n",
    "except:\n",
    "    print('dddddddddddddddddddddd')\n"
   ]
  }
 ],
 "metadata": {
  "kernelspec": {
   "display_name": "Python 3",
   "language": "python",
   "name": "python3"
  },
  "language_info": {
   "codemirror_mode": {
    "name": "ipython",
    "version": 3
   },
   "file_extension": ".py",
   "mimetype": "text/x-python",
   "name": "python",
   "nbconvert_exporter": "python",
   "pygments_lexer": "ipython3",
   "version": "3.12.0"
  }
 },
 "nbformat": 4,
 "nbformat_minor": 2
}
