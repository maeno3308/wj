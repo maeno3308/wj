{
 "cells": [
  {
   "cell_type": "code",
   "execution_count": 2,
   "metadata": {},
   "outputs": [],
   "source": [
    "import os\n",
    "import time\n",
    "import random\n",
    "\n",
    "from selenium import webdriver\n",
    "from selenium.webdriver.chrome.options import Options\n",
    "from selenium.common.exceptions import NoSuchElementException\n",
    "\n",
    "from selenium.webdriver.common.by import By\n",
    "from selenium.webdriver.common.keys import Keys"
   ]
  },
  {
   "cell_type": "code",
   "execution_count": 3,
   "metadata": {},
   "outputs": [],
   "source": [
    "\n",
    "options = Options()\n",
    "\n",
    "user_agent = 'Mozilla/5.0 (Windows NT 10.0; Win64; x64) AppleWebKit/537.36 (KHTML, like Gecko) Chrome/119.0.0.0 Safari/537.36'\n",
    "# user_data = \"내가 원하는 경로\"\n",
    "\n",
    "options.add_argument(f\"user-agent={user_agent}\")\n",
    "# options.add_argument(f\"user-data-dir={user_data}\")\n",
    "options.add_experimental_option(\"detach\", True) # 화면이 꺼지지 않고 유지"
   ]
  },
  {
   "cell_type": "code",
   "execution_count": 4,
   "metadata": {},
   "outputs": [],
   "source": [
    "def rdtime_12():\n",
    "    time.sleep(random.uniform(1,2))\n",
    "    return\n",
    "def rdtime_23():\n",
    "    time.sleep(random.uniform(2,3))\n",
    "    return"
   ]
  },
  {
   "cell_type": "code",
   "execution_count": 5,
   "metadata": {},
   "outputs": [],
   "source": [
    "##########################로그인함수\n",
    "driver = webdriver.Chrome(options=options)\n",
    "rdtime_12()\n",
    "driver.get('https://boss.ddangyo.com/')\n",
    "rdtime_23()\n",
    "rdtime_12()\n",
    "땡_아이디 = driver.find_element(By.CLASS_NAME, 'w2input')\n",
    "rdtime_12()\n",
    "땡_아이디.send_keys('maeno3308')\n",
    "rdtime_23()\n",
    "땡_비번 = driver.find_element(By.ID, value='mf_sct_pwd')\n",
    "rdtime_12()\n",
    "땡_비번.send_keys('@kwj300560011*')\n",
    "rdtime_23()\n",
    "로그인클릭 = driver.find_element(By.ID, 'mf_wq_uuid_34')\n",
    "로그인클릭.click()\n",
    "rdtime_23()\n",
    "rdtime_23()\n"
   ]
  },
  {
   "cell_type": "code",
   "execution_count": 22,
   "metadata": {},
   "outputs": [
    {
     "name": "stdout",
     "output_type": "stream",
     "text": [
      "0\n",
      "1\n"
     ]
    },
    {
     "ename": "InvalidSelectorException",
     "evalue": "Message: invalid selector: No selector specified\n  (Session info: chrome=121.0.6167.185); For documentation on this error, please visit: https://www.selenium.dev/documentation/webdriver/troubleshooting/errors#invalid-selector-exception\nStacktrace:\n\tGetHandleVerifier [0x00007FF68F4A7012+3522402]\n\t(No symbol) [0x00007FF68F0C8352]\n\t(No symbol) [0x00007FF68EF75ABB]\n\t(No symbol) [0x00007FF68EF7AD09]\n\t(No symbol) [0x00007FF68EF7D110]\n\t(No symbol) [0x00007FF68EF7D1D0]\n\t(No symbol) [0x00007FF68EFBBB7C]\n\t(No symbol) [0x00007FF68EFBC08C]\n\t(No symbol) [0x00007FF68EFFE437]\n\t(No symbol) [0x00007FF68EFDF09F]\n\t(No symbol) [0x00007FF68EFFBDA3]\n\t(No symbol) [0x00007FF68EFDEE03]\n\t(No symbol) [0x00007FF68EFAF4D4]\n\t(No symbol) [0x00007FF68EFB05F1]\n\tGetHandleVerifier [0x00007FF68F4D9B9D+3730157]\n\tGetHandleVerifier [0x00007FF68F52F02D+4079485]\n\tGetHandleVerifier [0x00007FF68F5275D3+4048163]\n\tGetHandleVerifier [0x00007FF68F1FA649+718233]\n\t(No symbol) [0x00007FF68F0D4A3F]\n\t(No symbol) [0x00007FF68F0CFA94]\n\t(No symbol) [0x00007FF68F0CFBC2]\n\t(No symbol) [0x00007FF68F0BF2E4]\n\tBaseThreadInitThunk [0x00007FFE3F02257D+29]\n\tRtlUserThreadStart [0x00007FFE4090AA58+40]\n",
     "output_type": "error",
     "traceback": [
      "\u001b[1;31m---------------------------------------------------------------------------\u001b[0m",
      "\u001b[1;31mInvalidSelectorException\u001b[0m                  Traceback (most recent call last)",
      "Cell \u001b[1;32mIn[22], line 10\u001b[0m\n\u001b[0;32m      8\u001b[0m \u001b[38;5;28;01mtry\u001b[39;00m:\n\u001b[0;32m      9\u001b[0m     \u001b[38;5;28mprint\u001b[39m(num)\n\u001b[1;32m---> 10\u001b[0m     배너클릭 \u001b[38;5;241m=\u001b[39m \u001b[43mdriver\u001b[49m\u001b[38;5;241;43m.\u001b[39;49m\u001b[43mfind_element\u001b[49m\u001b[43m(\u001b[49m\u001b[43mBy\u001b[49m\u001b[38;5;241;43m.\u001b[39;49m\u001b[43mCSS_SELECTOR\u001b[49m\u001b[43m,\u001b[49m\u001b[43m \u001b[49m\u001b[43mbanner\u001b[49m\u001b[43m[\u001b[49m\u001b[43mnum\u001b[49m\u001b[43m]\u001b[49m\u001b[43m)\u001b[49m\n\u001b[0;32m     11\u001b[0m     \u001b[38;5;66;03m# print(len(배너클릭))\u001b[39;00m\n\u001b[0;32m     12\u001b[0m     num \u001b[38;5;241m+\u001b[39m\u001b[38;5;241m=\u001b[39m \u001b[38;5;241m1\u001b[39m\n",
      "File \u001b[1;32mc:\\Users\\surfe\\AppData\\Local\\Programs\\Python\\Python312\\Lib\\site-packages\\selenium\\webdriver\\remote\\webdriver.py:741\u001b[0m, in \u001b[0;36mWebDriver.find_element\u001b[1;34m(self, by, value)\u001b[0m\n\u001b[0;32m    738\u001b[0m     by \u001b[38;5;241m=\u001b[39m By\u001b[38;5;241m.\u001b[39mCSS_SELECTOR\n\u001b[0;32m    739\u001b[0m     value \u001b[38;5;241m=\u001b[39m \u001b[38;5;124mf\u001b[39m\u001b[38;5;124m'\u001b[39m\u001b[38;5;124m[name=\u001b[39m\u001b[38;5;124m\"\u001b[39m\u001b[38;5;132;01m{\u001b[39;00mvalue\u001b[38;5;132;01m}\u001b[39;00m\u001b[38;5;124m\"\u001b[39m\u001b[38;5;124m]\u001b[39m\u001b[38;5;124m'\u001b[39m\n\u001b[1;32m--> 741\u001b[0m \u001b[38;5;28;01mreturn\u001b[39;00m \u001b[38;5;28;43mself\u001b[39;49m\u001b[38;5;241;43m.\u001b[39;49m\u001b[43mexecute\u001b[49m\u001b[43m(\u001b[49m\u001b[43mCommand\u001b[49m\u001b[38;5;241;43m.\u001b[39;49m\u001b[43mFIND_ELEMENT\u001b[49m\u001b[43m,\u001b[49m\u001b[43m \u001b[49m\u001b[43m{\u001b[49m\u001b[38;5;124;43m\"\u001b[39;49m\u001b[38;5;124;43musing\u001b[39;49m\u001b[38;5;124;43m\"\u001b[39;49m\u001b[43m:\u001b[49m\u001b[43m \u001b[49m\u001b[43mby\u001b[49m\u001b[43m,\u001b[49m\u001b[43m \u001b[49m\u001b[38;5;124;43m\"\u001b[39;49m\u001b[38;5;124;43mvalue\u001b[39;49m\u001b[38;5;124;43m\"\u001b[39;49m\u001b[43m:\u001b[49m\u001b[43m \u001b[49m\u001b[43mvalue\u001b[49m\u001b[43m}\u001b[49m\u001b[43m)\u001b[49m[\u001b[38;5;124m\"\u001b[39m\u001b[38;5;124mvalue\u001b[39m\u001b[38;5;124m\"\u001b[39m]\n",
      "File \u001b[1;32mc:\\Users\\surfe\\AppData\\Local\\Programs\\Python\\Python312\\Lib\\site-packages\\selenium\\webdriver\\remote\\webdriver.py:347\u001b[0m, in \u001b[0;36mWebDriver.execute\u001b[1;34m(self, driver_command, params)\u001b[0m\n\u001b[0;32m    345\u001b[0m response \u001b[38;5;241m=\u001b[39m \u001b[38;5;28mself\u001b[39m\u001b[38;5;241m.\u001b[39mcommand_executor\u001b[38;5;241m.\u001b[39mexecute(driver_command, params)\n\u001b[0;32m    346\u001b[0m \u001b[38;5;28;01mif\u001b[39;00m response:\n\u001b[1;32m--> 347\u001b[0m     \u001b[38;5;28;43mself\u001b[39;49m\u001b[38;5;241;43m.\u001b[39;49m\u001b[43merror_handler\u001b[49m\u001b[38;5;241;43m.\u001b[39;49m\u001b[43mcheck_response\u001b[49m\u001b[43m(\u001b[49m\u001b[43mresponse\u001b[49m\u001b[43m)\u001b[49m\n\u001b[0;32m    348\u001b[0m     response[\u001b[38;5;124m\"\u001b[39m\u001b[38;5;124mvalue\u001b[39m\u001b[38;5;124m\"\u001b[39m] \u001b[38;5;241m=\u001b[39m \u001b[38;5;28mself\u001b[39m\u001b[38;5;241m.\u001b[39m_unwrap_value(response\u001b[38;5;241m.\u001b[39mget(\u001b[38;5;124m\"\u001b[39m\u001b[38;5;124mvalue\u001b[39m\u001b[38;5;124m\"\u001b[39m, \u001b[38;5;28;01mNone\u001b[39;00m))\n\u001b[0;32m    349\u001b[0m     \u001b[38;5;28;01mreturn\u001b[39;00m response\n",
      "File \u001b[1;32mc:\\Users\\surfe\\AppData\\Local\\Programs\\Python\\Python312\\Lib\\site-packages\\selenium\\webdriver\\remote\\errorhandler.py:229\u001b[0m, in \u001b[0;36mErrorHandler.check_response\u001b[1;34m(self, response)\u001b[0m\n\u001b[0;32m    227\u001b[0m         alert_text \u001b[38;5;241m=\u001b[39m value[\u001b[38;5;124m\"\u001b[39m\u001b[38;5;124malert\u001b[39m\u001b[38;5;124m\"\u001b[39m]\u001b[38;5;241m.\u001b[39mget(\u001b[38;5;124m\"\u001b[39m\u001b[38;5;124mtext\u001b[39m\u001b[38;5;124m\"\u001b[39m)\n\u001b[0;32m    228\u001b[0m     \u001b[38;5;28;01mraise\u001b[39;00m exception_class(message, screen, stacktrace, alert_text)  \u001b[38;5;66;03m# type: ignore[call-arg]  # mypy is not smart enough here\u001b[39;00m\n\u001b[1;32m--> 229\u001b[0m \u001b[38;5;28;01mraise\u001b[39;00m exception_class(message, screen, stacktrace)\n",
      "\u001b[1;31mInvalidSelectorException\u001b[0m: Message: invalid selector: No selector specified\n  (Session info: chrome=121.0.6167.185); For documentation on this error, please visit: https://www.selenium.dev/documentation/webdriver/troubleshooting/errors#invalid-selector-exception\nStacktrace:\n\tGetHandleVerifier [0x00007FF68F4A7012+3522402]\n\t(No symbol) [0x00007FF68F0C8352]\n\t(No symbol) [0x00007FF68EF75ABB]\n\t(No symbol) [0x00007FF68EF7AD09]\n\t(No symbol) [0x00007FF68EF7D110]\n\t(No symbol) [0x00007FF68EF7D1D0]\n\t(No symbol) [0x00007FF68EFBBB7C]\n\t(No symbol) [0x00007FF68EFBC08C]\n\t(No symbol) [0x00007FF68EFFE437]\n\t(No symbol) [0x00007FF68EFDF09F]\n\t(No symbol) [0x00007FF68EFFBDA3]\n\t(No symbol) [0x00007FF68EFDEE03]\n\t(No symbol) [0x00007FF68EFAF4D4]\n\t(No symbol) [0x00007FF68EFB05F1]\n\tGetHandleVerifier [0x00007FF68F4D9B9D+3730157]\n\tGetHandleVerifier [0x00007FF68F52F02D+4079485]\n\tGetHandleVerifier [0x00007FF68F5275D3+4048163]\n\tGetHandleVerifier [0x00007FF68F1FA649+718233]\n\t(No symbol) [0x00007FF68F0D4A3F]\n\t(No symbol) [0x00007FF68F0CFA94]\n\t(No symbol) [0x00007FF68F0CFBC2]\n\t(No symbol) [0x00007FF68F0BF2E4]\n\tBaseThreadInitThunk [0x00007FFE3F02257D+29]\n\tRtlUserThreadStart [0x00007FFE4090AA58+40]\n"
     ]
    }
   ],
   "source": [
    "\n",
    "with open(\"banner.txt\",\"r\",encoding=\"UTF8\") as f:\n",
    "    banner = f.readlines()\n",
    "    banner = [line.rstrip('\\n') for line in banner]\n",
    "# print(len(banner))\n",
    "num = 0\n",
    "# bnum = len(banner)\n",
    "for i in banner:\n",
    "    try:\n",
    "        print(num)\n",
    "        배너클릭 = driver.find_element(By.CSS_SELECTOR, banner[num])\n",
    "        # print(len(배너클릭))\n",
    "        num += 1\n",
    "        time.sleep(2)\n",
    "    except NoSuchElementException:\n",
    "        print('배너를 못찾음')\n",
    "        num += 1\n",
    "    except \n",
    "    # text_box.insert('end','취소했습니다\\n') #문자열마직막줄에 입력3"
   ]
  },
  {
   "cell_type": "code",
   "execution_count": 94,
   "metadata": {},
   "outputs": [],
   "source": [
    "#############################영업 임시중지\n",
    "try:\n",
    "    rdtime_23()\n",
    "    영업임시중지클릭 = driver.find_element(By.CSS_SELECTOR, '#mf_wfm_side_gen_menuParent_0_gen_menuSub_1_btn_child').click()\n",
    "    rdtime_23()\n",
    "    변경 = driver.find_element(By.XPATH,'//input[@value=\"변경\"]').click()\n",
    "    rdtime_23()\n",
    "    중지 = driver.find_element(By.XPATH,'//label[text()=\"영업임시중지\"]').click()\n",
    "    rdtime_23()\n",
    "    중지 = driver.find_element(By.XPATH,'//option[text()=\"가게사정\"]').click()\n",
    "    rdtime_23()\n",
    "    중지 = driver.find_element(By.XPATH,'//input[@value=\"저장\"]').click()\n",
    "    rdtime_23()\n",
    "    확인 = driver.find_element(By.XPATH,'//input[@value=\"확인\"]').click()\n",
    "    rdtime_23()\n",
    "except:\n",
    "    rdtime_12()\n"
   ]
  },
  {
   "cell_type": "code",
   "execution_count": 56,
   "metadata": {},
   "outputs": [],
   "source": []
  },
  {
   "cell_type": "code",
   "execution_count": 36,
   "metadata": {},
   "outputs": [],
   "source": [
    "##################메뉴품절\n",
    "while True:\n",
    "    try:\n",
    "        품절설정 = driver.find_element(By.ID, 'mf_wfm_side_gen_menuParent_2_gen_menuSub_1_btn_child').click()\n",
    "        rdtime_23()\n",
    "        품절어 = driver.find_element(By.ID, 'mf_wfm_contents_wfm_tabcontents_ibx_menuSearch').send_keys('맵달')\n",
    "        rdtime_23()\n",
    "        검색클릭 = driver.find_element(By.ID, 'mf_wfm_contents_wfm_tabcontents_btn_search')\n",
    "        검색클릭.click()\n",
    "        rdtime_12()\n",
    "\n",
    "\n",
    "        메뉴품절 = driver.find_element(By.LINK_TEXT, '품절').click()\n",
    "        rdtime_23()\n",
    "        확인 = driver.find_element(By.XPATH, '//input[@value=\"확인\"]').click()\n",
    "        rdtime_23()\n",
    "    except:\n",
    "        break"
   ]
  },
  {
   "cell_type": "code",
   "execution_count": 46,
   "metadata": {},
   "outputs": [],
   "source": [
    "####################옵션선택및검색\n",
    "\n",
    "옵션선택클릭 = driver.find_element(By.ID, 'mf_wfm_contents_btn_optionSldot').click()\n",
    "rdtime_23()\n",
    "옵션명검색 = driver.find_element(By.ID, 'mf_wfm_contents_wfm_tabcontents_ibx_optnSearch')\n",
    "옵션명검색.send_keys('맵달')\n",
    "rdtime_23()\n",
    "옵션검색클릭 = driver.find_element(By.ID, 'mf_wfm_contents_wfm_tabcontents_btn_search').click()\n",
    "rdtime_23()\n"
   ]
  },
  {
   "cell_type": "code",
   "execution_count": 49,
   "metadata": {},
   "outputs": [],
   "source": [
    "#########################옵션품절\n",
    "while True:\n",
    "    try:\n",
    "        메뉴품절 = driver.find_element(By.LINK_TEXT, '품절').click()\n",
    "        rdtime_23()\n",
    "        while True:\n",
    "            try:\n",
    "                확인 = driver.find_element(By.XPATH, '//input[@value=\"확인\"]').click()\n",
    "                rdtime_23()\n",
    "            except:\n",
    "                break\n",
    "    except:\n",
    "        break"
   ]
  },
  {
   "cell_type": "code",
   "execution_count": 22,
   "metadata": {},
   "outputs": [
    {
     "name": "stdout",
     "output_type": "stream",
     "text": [
      "2\n",
      "<selenium.webdriver.remote.webelement.WebElement (session=\"3a1910b9a5095cdd6d44289bd6454a71\", element=\"CD843262E7A3345C8E56CEB9FE52DF3A_element_277\")>\n"
     ]
    },
    {
     "ename": "TypeError",
     "evalue": "'WebElement' object is not subscriptable",
     "output_type": "error",
     "traceback": [
      "\u001b[1;31m---------------------------------------------------------------------------\u001b[0m",
      "\u001b[1;31mTypeError\u001b[0m                                 Traceback (most recent call last)",
      "Cell \u001b[1;32mIn[22], line 9\u001b[0m\n\u001b[0;32m      7\u001b[0m rdtime_12()\n\u001b[0;32m      8\u001b[0m \u001b[38;5;28mprint\u001b[39m(i)\n\u001b[1;32m----> 9\u001b[0m \u001b[43mi\u001b[49m\u001b[43m[\u001b[49m\u001b[43m품절목록\u001b[49m\u001b[43m]\u001b[49m\u001b[38;5;241m.\u001b[39mclick()\n\u001b[0;32m     10\u001b[0m rdtime_12()\n\u001b[0;32m     11\u001b[0m rdtime_12()\n",
      "\u001b[1;31mTypeError\u001b[0m: 'WebElement' object is not subscriptable"
     ]
    }
   ],
   "source": [
    "rdtime_12()\n",
    "품절목록 = driver.find_elements(By.LINK_TEXT, '품절')\n",
    "# 품절목록 = driver.find_elements(By.CSS_SELECTOR, '.w2anchor2.btn_bg.soldout')\n",
    "print(len(품절목록))\n",
    "s1 = 0\n",
    "for i in 품절목록:\n",
    "    rdtime_12()\n",
    "    print(i)\n",
    "    i[품절목록].click()\n",
    "    rdtime_12()\n",
    "    rdtime_12()\n",
    "    확인 = driver.find_elements(By.CSS_SELECTOR, '.w2trigger.btn')\n",
    "    확인[3].click()\n",
    "    rdtime_23()\n",
    "\n",
    "    rdtime_12()\n",
    "    s1 += 1\n",
    "    "
   ]
  },
  {
   "cell_type": "code",
   "execution_count": null,
   "metadata": {},
   "outputs": [],
   "source": [
    "mf_wfm_contents_wfm_tabcontents_confirm6986850631365996_wframe_btn_yes"
   ]
  },
  {
   "cell_type": "code",
   "execution_count": null,
   "metadata": {},
   "outputs": [],
   "source": []
  },
  {
   "cell_type": "code",
   "execution_count": null,
   "metadata": {},
   "outputs": [],
   "source": []
  },
  {
   "cell_type": "code",
   "execution_count": 29,
   "metadata": {},
   "outputs": [],
   "source": [
    "rdtime_12()\n",
    "옵션품절 = driver.find_element(By.NAME, value='keyword')\n",
    "rdtime_12()\n",
    "옵션품절.send_keys('파스')\n",
    "rdtime_12()\n"
   ]
  },
  {
   "cell_type": "code",
   "execution_count": 33,
   "metadata": {},
   "outputs": [],
   "source": [
    "try:\n",
    "    필수선택 = driver.find_element(By.CSS_SELECTOR, value='.sc-ewnqHT.bnlUBh')\n",
    "    필수선택.click()\n",
    "except:\n",
    "    print('dddddddddddddddddddddd')\n"
   ]
  },
  {
   "cell_type": "code",
   "execution_count": 35,
   "metadata": {},
   "outputs": [
    {
     "name": "stdout",
     "output_type": "stream",
     "text": [
      "[<selenium.webdriver.remote.webelement.WebElement (session=\"6616433f5cf1c47f50e2d6cf4db85797\", element=\"565C26DF0DCDB56E054D4010F8D6C63F_element_21675\")>, <selenium.webdriver.remote.webelement.WebElement (session=\"6616433f5cf1c47f50e2d6cf4db85797\", element=\"565C26DF0DCDB56E054D4010F8D6C63F_element_21698\")>, <selenium.webdriver.remote.webelement.WebElement (session=\"6616433f5cf1c47f50e2d6cf4db85797\", element=\"565C26DF0DCDB56E054D4010F8D6C63F_element_21699\")>, <selenium.webdriver.remote.webelement.WebElement (session=\"6616433f5cf1c47f50e2d6cf4db85797\", element=\"565C26DF0DCDB56E054D4010F8D6C63F_element_21700\")>]\n",
      "4\n",
      "2222222222222222222222\n",
      "2222222222222222222222\n",
      "2222222222222222222222\n"
     ]
    }
   ],
   "source": [
    "검색결과2 = driver.find_elements(By.CSS_SELECTOR, '.sc-bgqQcB.cdnbBK.sc-dicizt.ToggleButtonGroup___StyledLabelButton-sc-am0hqm-1.eECEbI.hJHCmU')\n",
    "print(검색결과2)\n",
    "print(len(검색결과2))\n",
    "\n",
    "for ss2 in 검색결과2:\n",
    "    ss2.click()\n",
    "    rdtime_12()\n",
    "\n",
    "    try:\n",
    "        필수선택 = driver.find_element(By.CSS_SELECTOR, '.sc-ewnqHT.bnlUBh')\n",
    "        # if 필수선택 == True:\n",
    "        필수선택.click()\n",
    "        rdtime_12()\n",
    "    except:\n",
    "        print(2222222222222222222222)\n",
    "        rdtime_12()\n"
   ]
  },
  {
   "cell_type": "code",
   "execution_count": null,
   "metadata": {},
   "outputs": [],
   "source": [
    "\n",
    "    try:\n",
    "        필수선택 = driver.find_element(By.CSS_SELECTOR, '.sc-ewnqHT.bnlUBh')\n",
    "    \n",
    "    # except NoSuchElementException:\n",
    "\n",
    "        if 필수선택 == True:\n",
    "            필수선택.click()\n",
    "            rdtime_12()\n",
    "    except NoSuchElementException:\n",
    "        continue"
   ]
  }
 ],
 "metadata": {
  "kernelspec": {
   "display_name": "Python 3",
   "language": "python",
   "name": "python3"
  },
  "language_info": {
   "codemirror_mode": {
    "name": "ipython",
    "version": 3
   },
   "file_extension": ".py",
   "mimetype": "text/x-python",
   "name": "python",
   "nbconvert_exporter": "python",
   "pygments_lexer": "ipython3",
   "version": "3.12.0"
  }
 },
 "nbformat": 4,
 "nbformat_minor": 2
}
