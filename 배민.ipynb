{
 "cells": [
  {
   "cell_type": "code",
   "execution_count": 242,
   "metadata": {},
   "outputs": [],
   "source": [
    "import os\n",
    "import time\n",
    "import random\n",
    "\n",
    "from selenium import webdriver\n",
    "from selenium.webdriver.chrome.options import Options\n",
    "\n",
    "from selenium.webdriver.common.by import By\n",
    "from selenium.webdriver.common.keys import Keys\n",
    "\n",
    "from selenium.webdriver import ActionChains\n",
    "\n",
    "# import selenium.webdriver.support.relative_locator\n",
    "# # import locate_with\n",
    "\n"
   ]
  },
  {
   "cell_type": "code",
   "execution_count": 243,
   "metadata": {},
   "outputs": [],
   "source": [
    "\n",
    "options = Options()\n",
    "\n",
    "user_agent = 'Mozilla/5.0 (Windows NT 10.0; Win64; x64) AppleWebKit/537.36 (KHTML, like Gecko) Chrome/119.0.0.0 Safari/537.36'\n",
    "# user_data = \"내가 원하는 경로\"\n",
    "\n",
    "options.add_argument(f\"user-agent={user_agent}\")\n",
    "\n",
    "\n",
    "# options.add_argument(f\"user-data-dir={user_data}\")\n",
    "\n",
    "options.add_experimental_option(\"detach\", True) # 화면이 꺼지지 않고 유지"
   ]
  },
  {
   "cell_type": "code",
   "execution_count": 244,
   "metadata": {},
   "outputs": [],
   "source": [
    "def rdtime_12():\n",
    "    time.sleep(random.uniform(1,2))\n",
    "    return\n",
    "def rdtime_23():\n",
    "    time.sleep(random.uniform(2,3))\n",
    "    return\n"
   ]
  },
  {
   "cell_type": "code",
   "execution_count": 245,
   "metadata": {},
   "outputs": [],
   "source": [
    "\n",
    "driver = webdriver.Chrome(options=options)\n",
    "driver.implicitly_wait(1)\n",
    "rdtime_12()\n",
    "\n",
    "driver.get('https://biz-member.baemin.com/login?returnUrl=https%3A%2F%2Fceo.baemin.com%2F')\n",
    "\n",
    "rdtime_12()\n",
    "\n",
    "b_ids = driver.find_element(By.NAME, value=\"id\")\n",
    "rdtime_12()\n",
    "b_ids.send_keys('maeno3308')\n",
    "rdtime_12()\n",
    "b_pws = driver.find_element(By.NAME, value=\"password\")\n",
    "rdtime_12()\n",
    "b_pws.send_keys('@kwj300560011*704')\n",
    "\n",
    "time.sleep(2)\n",
    "\n",
    "로그인클릭 = driver.find_element(By.CLASS_NAME, \"Button__StyledButton-sc-1cxc4dz-0.hlLPsc\").click()\n",
    "time.sleep(2)\n",
    "rdtime_23()\n"
   ]
  },
  {
   "cell_type": "code",
   "execution_count": 246,
   "metadata": {},
   "outputs": [],
   "source": [
    "##########품절해제\n",
    "try:\n",
    "    driver.get('https://self.baemin.com/menu')\n",
    "    rdtime_23()\n",
    "except:\n",
    "    rdtime_23()"
   ]
  },
  {
   "cell_type": "code",
   "execution_count": 248,
   "metadata": {},
   "outputs": [
    {
     "name": "stdout",
     "output_type": "stream",
     "text": [
      "['확인', '변경', '보기', '품절기간 변경', '품절 해제', '품절기간 변경', '품절 해제', '변경', '품절기간 변경', '품절 해제']\n",
      "ddd\n"
     ]
    }
   ],
   "source": [
    "try:\n",
    "    soldout = []\n",
    "    sold = \"품절 해제\"\n",
    "    xx = 0\n",
    "\n",
    "    while True:\n",
    "        element = driver.find_elements(By.CSS_SELECTOR,'.bsds-button.css-a2ehx')\n",
    "        for i in element:\n",
    "            soldout.append(element[xx].text)\n",
    "            xx += 1\n",
    "\n",
    "            # print(type(soldout))\n",
    "        print(soldout)\n",
    "\n",
    "        \n",
    "        \n",
    "        # # print(element[xx].text)\n",
    "        # if element[xx].text == sold:\n",
    "        #     print(element[xx].text)\n",
    "\n",
    "except:\n",
    "    print('ddd')\n",
    "    # rdtime_23()"
   ]
  },
  {
   "cell_type": "code",
   "execution_count": 252,
   "metadata": {},
   "outputs": [
    {
     "ename": "ElementClickInterceptedException",
     "evalue": "Message: element click intercepted: Element <span class=\"css-fowwyy\">...</span> is not clickable at point (947, 719). Other element would receive the click: <div class=\"button-overlay css-fowwyy\"></div>\n  (Session info: chrome=122.0.6261.111)\nStacktrace:\n\tGetHandleVerifier [0x00007FF698A1AD22+56930]\n\t(No symbol) [0x00007FF69898F622]\n\t(No symbol) [0x00007FF6988442E5]\n\t(No symbol) [0x00007FF698890A80]\n\t(No symbol) [0x00007FF69888E8AB]\n\t(No symbol) [0x00007FF69888C0B4]\n\t(No symbol) [0x00007FF69888AE45]\n\t(No symbol) [0x00007FF69887F798]\n\t(No symbol) [0x00007FF6988ABC9A]\n\t(No symbol) [0x00007FF69887F09A]\n\t(No symbol) [0x00007FF6988ABEB0]\n\t(No symbol) [0x00007FF6988C81E2]\n\t(No symbol) [0x00007FF6988ABA43]\n\t(No symbol) [0x00007FF69887D438]\n\t(No symbol) [0x00007FF69887E4D1]\n\tGetHandleVerifier [0x00007FF698D96AAD+3709933]\n\tGetHandleVerifier [0x00007FF698DEFFED+4075821]\n\tGetHandleVerifier [0x00007FF698DE817F+4043455]\n\tGetHandleVerifier [0x00007FF698AB9756+706710]\n\t(No symbol) [0x00007FF69899B8FF]\n\t(No symbol) [0x00007FF698996AE4]\n\t(No symbol) [0x00007FF698996C3C]\n\t(No symbol) [0x00007FF6989868F4]\n\tBaseThreadInitThunk [0x00007FFC00CD257D+29]\n\tRtlUserThreadStart [0x00007FFC027EAA58+40]\n",
     "output_type": "error",
     "traceback": [
      "\u001b[1;31m---------------------------------------------------------------------------\u001b[0m",
      "\u001b[1;31mElementClickInterceptedException\u001b[0m          Traceback (most recent call last)",
      "Cell \u001b[1;32mIn[252], line 1\u001b[0m\n\u001b[1;32m----> 1\u001b[0m dddd \u001b[38;5;241m=\u001b[39m \u001b[43mdriver\u001b[49m\u001b[38;5;241;43m.\u001b[39;49m\u001b[43mfind_element\u001b[49m\u001b[43m(\u001b[49m\u001b[43mBy\u001b[49m\u001b[38;5;241;43m.\u001b[39;49m\u001b[43mXPATH\u001b[49m\u001b[43m,\u001b[49m\u001b[38;5;124;43m'\u001b[39;49m\u001b[38;5;124;43m//*[text()=\u001b[39;49m\u001b[38;5;124;43m\"\u001b[39;49m\u001b[38;5;124;43m품절 해제\u001b[39;49m\u001b[38;5;124;43m\"\u001b[39;49m\u001b[38;5;124;43m]\u001b[39;49m\u001b[38;5;124;43m'\u001b[39;49m\u001b[43m)\u001b[49m\u001b[38;5;241;43m.\u001b[39;49m\u001b[43mclick\u001b[49m\u001b[43m(\u001b[49m\u001b[43m)\u001b[49m\n",
      "File \u001b[1;32mc:\\Users\\surfe\\AppData\\Local\\Programs\\Python\\Python312\\Lib\\site-packages\\selenium\\webdriver\\remote\\webelement.py:93\u001b[0m, in \u001b[0;36mWebElement.click\u001b[1;34m(self)\u001b[0m\n\u001b[0;32m     91\u001b[0m \u001b[38;5;28;01mdef\u001b[39;00m \u001b[38;5;21mclick\u001b[39m(\u001b[38;5;28mself\u001b[39m) \u001b[38;5;241m-\u001b[39m\u001b[38;5;241m>\u001b[39m \u001b[38;5;28;01mNone\u001b[39;00m:\n\u001b[0;32m     92\u001b[0m \u001b[38;5;250m    \u001b[39m\u001b[38;5;124;03m\"\"\"Clicks the element.\"\"\"\u001b[39;00m\n\u001b[1;32m---> 93\u001b[0m     \u001b[38;5;28;43mself\u001b[39;49m\u001b[38;5;241;43m.\u001b[39;49m\u001b[43m_execute\u001b[49m\u001b[43m(\u001b[49m\u001b[43mCommand\u001b[49m\u001b[38;5;241;43m.\u001b[39;49m\u001b[43mCLICK_ELEMENT\u001b[49m\u001b[43m)\u001b[49m\n",
      "File \u001b[1;32mc:\\Users\\surfe\\AppData\\Local\\Programs\\Python\\Python312\\Lib\\site-packages\\selenium\\webdriver\\remote\\webelement.py:394\u001b[0m, in \u001b[0;36mWebElement._execute\u001b[1;34m(self, command, params)\u001b[0m\n\u001b[0;32m    392\u001b[0m     params \u001b[38;5;241m=\u001b[39m {}\n\u001b[0;32m    393\u001b[0m params[\u001b[38;5;124m\"\u001b[39m\u001b[38;5;124mid\u001b[39m\u001b[38;5;124m\"\u001b[39m] \u001b[38;5;241m=\u001b[39m \u001b[38;5;28mself\u001b[39m\u001b[38;5;241m.\u001b[39m_id\n\u001b[1;32m--> 394\u001b[0m \u001b[38;5;28;01mreturn\u001b[39;00m \u001b[38;5;28;43mself\u001b[39;49m\u001b[38;5;241;43m.\u001b[39;49m\u001b[43m_parent\u001b[49m\u001b[38;5;241;43m.\u001b[39;49m\u001b[43mexecute\u001b[49m\u001b[43m(\u001b[49m\u001b[43mcommand\u001b[49m\u001b[43m,\u001b[49m\u001b[43m \u001b[49m\u001b[43mparams\u001b[49m\u001b[43m)\u001b[49m\n",
      "File \u001b[1;32mc:\\Users\\surfe\\AppData\\Local\\Programs\\Python\\Python312\\Lib\\site-packages\\selenium\\webdriver\\remote\\webdriver.py:347\u001b[0m, in \u001b[0;36mWebDriver.execute\u001b[1;34m(self, driver_command, params)\u001b[0m\n\u001b[0;32m    345\u001b[0m response \u001b[38;5;241m=\u001b[39m \u001b[38;5;28mself\u001b[39m\u001b[38;5;241m.\u001b[39mcommand_executor\u001b[38;5;241m.\u001b[39mexecute(driver_command, params)\n\u001b[0;32m    346\u001b[0m \u001b[38;5;28;01mif\u001b[39;00m response:\n\u001b[1;32m--> 347\u001b[0m     \u001b[38;5;28;43mself\u001b[39;49m\u001b[38;5;241;43m.\u001b[39;49m\u001b[43merror_handler\u001b[49m\u001b[38;5;241;43m.\u001b[39;49m\u001b[43mcheck_response\u001b[49m\u001b[43m(\u001b[49m\u001b[43mresponse\u001b[49m\u001b[43m)\u001b[49m\n\u001b[0;32m    348\u001b[0m     response[\u001b[38;5;124m\"\u001b[39m\u001b[38;5;124mvalue\u001b[39m\u001b[38;5;124m\"\u001b[39m] \u001b[38;5;241m=\u001b[39m \u001b[38;5;28mself\u001b[39m\u001b[38;5;241m.\u001b[39m_unwrap_value(response\u001b[38;5;241m.\u001b[39mget(\u001b[38;5;124m\"\u001b[39m\u001b[38;5;124mvalue\u001b[39m\u001b[38;5;124m\"\u001b[39m, \u001b[38;5;28;01mNone\u001b[39;00m))\n\u001b[0;32m    349\u001b[0m     \u001b[38;5;28;01mreturn\u001b[39;00m response\n",
      "File \u001b[1;32mc:\\Users\\surfe\\AppData\\Local\\Programs\\Python\\Python312\\Lib\\site-packages\\selenium\\webdriver\\remote\\errorhandler.py:229\u001b[0m, in \u001b[0;36mErrorHandler.check_response\u001b[1;34m(self, response)\u001b[0m\n\u001b[0;32m    227\u001b[0m         alert_text \u001b[38;5;241m=\u001b[39m value[\u001b[38;5;124m\"\u001b[39m\u001b[38;5;124malert\u001b[39m\u001b[38;5;124m\"\u001b[39m]\u001b[38;5;241m.\u001b[39mget(\u001b[38;5;124m\"\u001b[39m\u001b[38;5;124mtext\u001b[39m\u001b[38;5;124m\"\u001b[39m)\n\u001b[0;32m    228\u001b[0m     \u001b[38;5;28;01mraise\u001b[39;00m exception_class(message, screen, stacktrace, alert_text)  \u001b[38;5;66;03m# type: ignore[call-arg]  # mypy is not smart enough here\u001b[39;00m\n\u001b[1;32m--> 229\u001b[0m \u001b[38;5;28;01mraise\u001b[39;00m exception_class(message, screen, stacktrace)\n",
      "\u001b[1;31mElementClickInterceptedException\u001b[0m: Message: element click intercepted: Element <span class=\"css-fowwyy\">...</span> is not clickable at point (947, 719). Other element would receive the click: <div class=\"button-overlay css-fowwyy\"></div>\n  (Session info: chrome=122.0.6261.111)\nStacktrace:\n\tGetHandleVerifier [0x00007FF698A1AD22+56930]\n\t(No symbol) [0x00007FF69898F622]\n\t(No symbol) [0x00007FF6988442E5]\n\t(No symbol) [0x00007FF698890A80]\n\t(No symbol) [0x00007FF69888E8AB]\n\t(No symbol) [0x00007FF69888C0B4]\n\t(No symbol) [0x00007FF69888AE45]\n\t(No symbol) [0x00007FF69887F798]\n\t(No symbol) [0x00007FF6988ABC9A]\n\t(No symbol) [0x00007FF69887F09A]\n\t(No symbol) [0x00007FF6988ABEB0]\n\t(No symbol) [0x00007FF6988C81E2]\n\t(No symbol) [0x00007FF6988ABA43]\n\t(No symbol) [0x00007FF69887D438]\n\t(No symbol) [0x00007FF69887E4D1]\n\tGetHandleVerifier [0x00007FF698D96AAD+3709933]\n\tGetHandleVerifier [0x00007FF698DEFFED+4075821]\n\tGetHandleVerifier [0x00007FF698DE817F+4043455]\n\tGetHandleVerifier [0x00007FF698AB9756+706710]\n\t(No symbol) [0x00007FF69899B8FF]\n\t(No symbol) [0x00007FF698996AE4]\n\t(No symbol) [0x00007FF698996C3C]\n\t(No symbol) [0x00007FF6989868F4]\n\tBaseThreadInitThunk [0x00007FFC00CD257D+29]\n\tRtlUserThreadStart [0x00007FFC027EAA58+40]\n"
     ]
    }
   ],
   "source": [
    "dddd = driver.find_element(By.XPATH,'//*[text()=\"품절 해제\"]').click()"
   ]
  },
  {
   "cell_type": "code",
   "execution_count": 219,
   "metadata": {},
   "outputs": [
    {
     "name": "stdout",
     "output_type": "stream",
     "text": [
      "8\n",
      "<selenium.webdriver.remote.webelement.WebElement (session=\"4a7327cb9a332ec8e2d3e912272daf45\", element=\"f.88E54A73E7C49E561F8B28B188CC53C4.d.BF03F78038BCF1974E44191D5D8C2C41.e.957\")>\n",
      "<selenium.webdriver.remote.webelement.WebElement (session=\"4a7327cb9a332ec8e2d3e912272daf45\", element=\"f.88E54A73E7C49E561F8B28B188CC53C4.d.BF03F78038BCF1974E44191D5D8C2C41.e.19279\")>\n",
      "<selenium.webdriver.remote.webelement.WebElement (session=\"4a7327cb9a332ec8e2d3e912272daf45\", element=\"f.88E54A73E7C49E561F8B28B188CC53C4.d.BF03F78038BCF1974E44191D5D8C2C41.e.19281\")>\n",
      "<selenium.webdriver.remote.webelement.WebElement (session=\"4a7327cb9a332ec8e2d3e912272daf45\", element=\"f.88E54A73E7C49E561F8B28B188CC53C4.d.BF03F78038BCF1974E44191D5D8C2C41.e.19405\")>\n",
      "<selenium.webdriver.remote.webelement.WebElement (session=\"4a7327cb9a332ec8e2d3e912272daf45\", element=\"f.88E54A73E7C49E561F8B28B188CC53C4.d.BF03F78038BCF1974E44191D5D8C2C41.e.19406\")>\n",
      "00000000\n",
      "<selenium.webdriver.remote.webelement.WebElement (session=\"4a7327cb9a332ec8e2d3e912272daf45\", element=\"f.88E54A73E7C49E561F8B28B188CC53C4.d.BF03F78038BCF1974E44191D5D8C2C41.e.19345\")>\n",
      "ddd\n"
     ]
    }
   ],
   "source": [
    "try:\n",
    "    element = driver.find_elements(By.CSS_SELECTOR,'.bsds-button.css-a2ehx')\n",
    "    sold = \"품절 해제\"\n",
    "    xx = 0\n",
    "    print(len(element))\n",
    "\n",
    "    for i in element:\n",
    "        # element = driver.find_elements(By.CSS_SELECTOR,'.bsds-button.css-a2ehx')\n",
    "        if element[xx].text == sold:\n",
    "            print('00000000')\n",
    "            element[xx].click()\n",
    "            rdtime_12()\n",
    "            continue\n",
    "            ###클릭하고 변경됐어요\n",
    "\n",
    "\n",
    "            # xx += 1\n",
    "        xx += 1\n",
    "        rdtime_12()\n",
    "except:\n",
    "    print('ddd')\n",
    "    # rdtime_23()"
   ]
  },
  {
   "cell_type": "code",
   "execution_count": 228,
   "metadata": {},
   "outputs": [
    {
     "name": "stdout",
     "output_type": "stream",
     "text": [
      "2\n",
      "xxxxxxxxxxxxxxx\n"
     ]
    }
   ],
   "source": [
    "try:\n",
    "    # 품절수 = driver.find_elements(By.CSS_SELECTOR, '.bsds-typography-text16.franchiseOptionInfo-module__IzC8.css-12314f8')\n",
    "    # 품절갯수 = len(품절수)\n",
    "    # print(품절갯수)\n",
    "    num = 0\n",
    "    while True:\n",
    "        품절수 = driver.find_elements(By.CSS_SELECTOR, '.bsds-typography-text16.franchiseOptionInfo-module__IzC8.css-12314f8')\n",
    "        품절갯수 = len(품절수)\n",
    "        print(품절갯수)\n",
    "\n",
    "        if 품절갯수 == 0:\n",
    "            break\n",
    "        else:\n",
    "            품절수[num].click()\n",
    "            rdtime_23()\n",
    "            품절해제 = driver.find_element(By.CSS_SELECTOR, '.bsds-button.css-19v7nua').click()\n",
    "            # 품절해제[]\n",
    "            rdtime_23()\n",
    "\n",
    "            창닫기 = driver.find_element(By.XPATH, '//i[@class=\"baesisi-icon bsds-icon css-za7tqh\"]').click()\n",
    "            # 창닫기[2].click()\n",
    "            rdtime_23()\n",
    "            num += 1\n",
    "except:\n",
    "    print('xxxxxxxxxxxxxxx')\n",
    "    rdtime_12()\n"
   ]
  },
  {
   "cell_type": "code",
   "execution_count": 232,
   "metadata": {},
   "outputs": [],
   "source": [
    "창닫기 = driver.find_element(By.XPATH, '//*[@class=\"bsds-icon-button bsds-modal-header-button css-1sh9h6s\"]').click()\n"
   ]
  },
  {
   "cell_type": "code",
   "execution_count": 47,
   "metadata": {},
   "outputs": [],
   "source": [
    "#####################배민옵션 품절 해제\n",
    "try:\n",
    "    # 품절수 = driver.find_elements(By.CSS_SELECTOR, '.bsds-typography-text16.franchiseOptionInfo-module__IzC8.css-12314f8')\n",
    "    # 품절갯수 = len(품절수)\n",
    "    # print(품절갯수)\n",
    "    # xxx = 0\n",
    "    # # button-overlay css-fowwyy\n",
    "    while True:\n",
    "\n",
    "        품절해제 = driver.find_elements(By.XPATH,'/html/body/div[1]/div/div[3]/div[2]/div[1]/div[3]/div[2]/div[4]/div/div[1]/div/div/div/div[1]/div[1]/div[3]/div/div/div/div[2]/button[2]/div')\n",
    "        품절수 = len(품절해제)\n",
    "        if 품절수 == 0:\n",
    "            break\n",
    "        else:\n",
    "            품절해제[0].click()\n",
    "            rdtime_23()\n",
    "except:\n",
    "    rdtime_12()"
   ]
  },
  {
   "cell_type": "code",
   "execution_count": 83,
   "metadata": {},
   "outputs": [
    {
     "name": "stdout",
     "output_type": "stream",
     "text": [
      "1\n",
      "2\n",
      "3\n",
      "1\n",
      "2\n",
      "3\n",
      "1\n",
      "2\n",
      "3\n"
     ]
    }
   ],
   "source": [
    "#####################배민품절 해제\n",
    "try:\n",
    "    판매상태 = driver.find_element(By.XPATH, '//span[text()=\"판매상태\"]').click()\n",
    "    rdtime_23()\n",
    "    품절 = driver.find_elements(By.CSS_SELECTOR, '.bsds-action-sheet-item.css-1gagrh8')\n",
    "    품절[4].click() \n",
    "    rdtime_23()\n",
    "    품절수 = driver.find_elements(By.CSS_SELECTOR, '.menuInfo-module__p2u1')\n",
    "    품절갯수 = len(품절수)\n",
    "    xxx = 0\n",
    "    while True:\n",
    "        가게클릭 = driver.find_elements(By.CSS_SELECTOR, '.button-overlay.css-fowwyy')\n",
    "        가게클릭[8].click()\n",
    "        time.sleep(2)\n",
    "        xxx += 1\n",
    "        if xxx > 품절갯수:\n",
    "            break\n",
    "        print(xxx)\n",
    "except:\n",
    "    rdtime_12()\n",
    "\n",
    "try:    \n",
    "    ######배민피자품절해제\n",
    "    가게클릭 = driver.find_elements(By.CSS_SELECTOR, '.css-6vg3wo')\n",
    "    가게클릭[0].click()\n",
    "    rdtime_12()\n",
    "    배민피자선택 = driver.find_elements(By.CSS_SELECTOR, '.bsds-action-sheet-overlay.css-fowwyy')\n",
    "    배민피자선택[3].click()\n",
    "    rdtime_23()\n",
    "    품절수 = driver.find_elements(By.CSS_SELECTOR, '.menuInfo-module__p2u1')\n",
    "    품절갯수 = len(품절수)\n",
    "    xxx = 0\n",
    "    while True:\n",
    "        가게클릭 = driver.find_elements(By.CSS_SELECTOR, '.button-overlay.css-fowwyy')\n",
    "        가게클릭[8].click()\n",
    "        time.sleep(2)\n",
    "        xxx += 1\n",
    "        if xxx > 품절갯수:\n",
    "            break\n",
    "        print(xxx)    \n",
    "except:\n",
    "    rdtime_12()\n",
    "\n",
    "try:    \n",
    "    #####################배민1 품절해제\n",
    "    가게클릭 = driver.find_elements(By.CSS_SELECTOR, '.css-6vg3wo')\n",
    "    가게클릭[0].click()\n",
    "    rdtime_12()\n",
    "    배민1선택 = driver.find_elements(By.CSS_SELECTOR, '.bsds-action-sheet-overlay.css-fowwyy')\n",
    "    배민1선택[4].click()\n",
    "    rdtime_23()\n",
    "    품절수 = driver.find_elements(By.CSS_SELECTOR, '.menuInfo-module__p2u1')\n",
    "    품절갯수 = len(품절수)\n",
    "    xxx = 0\n",
    "    while True:\n",
    "        가게클릭 = driver.find_elements(By.CSS_SELECTOR, '.button-overlay.css-fowwyy')\n",
    "        가게클릭[8].click()\n",
    "        time.sleep(2)\n",
    "        xxx += 1\n",
    "        if xxx > 품절갯수:\n",
    "            break\n",
    "        print(xxx)    \n",
    "except:\n",
    "    rdtime_12()"
   ]
  },
  {
   "cell_type": "code",
   "execution_count": 13,
   "metadata": {},
   "outputs": [],
   "source": [
    "#############배민댓글달기\n",
    "try:\n",
    "    driver.get('https://self.baemin.com/shops/13927279/reviews')\n",
    "    rdtime_23()\n",
    "except:\n",
    "    rdtime_23()\n",
    "##############배민댓글달기\n",
    "try:\n",
    "    사장님댓글달기 = driver.find_elements(By.CSS_SELECTOR,'.button.medium.secondary')\n",
    "    xx = 0\n",
    "    for x in 사장님댓글달기:\n",
    "        사장님댓글달기[xx].click()\n",
    "        rdtime_23()\n",
    "        댓글창 = driver.find_elements(By.CSS_SELECTOR,'.b_lqxa9reo_12i8sxib.b_lqxa9reo_lv96zi8.b_lqxa9reo_12i8sxid')\n",
    "        with open ('g_comment.txt','r',encoding='UTF8') as f:\n",
    "            댓글 = f.read()\n",
    "            댓글창[1].send_keys('\\n')\n",
    "            댓글창[1].send_keys(댓글)\n",
    "            rdtime_23()\n",
    "            등록 = driver.find_element(By.XPATH,'//p[text()=\"등록\"]').click()\n",
    "            rdtime_23()\n",
    "        xx += 1    \n",
    "except:\n",
    "    rdtime_12()"
   ]
  },
  {
   "cell_type": "code",
   "execution_count": 26,
   "metadata": {},
   "outputs": [],
   "source": [
    "##############배민피자\n",
    "try:\n",
    "    배민피자선택 = driver.find_element(By.XPATH, '//option[@value=\"13977001\"]').click()\n",
    "    rdtime_23()\n",
    "    사장님댓글달기 = driver.find_elements(By.CSS_SELECTOR,'.button.medium.secondary')\n",
    "    xx = 0\n",
    "    for x in 사장님댓글달기:\n",
    "        사장님댓글달기[xx].click()\n",
    "        rdtime_23()\n",
    "        댓글창 = driver.find_elements(By.CSS_SELECTOR,'.b_lqxa9reo_12i8sxib.b_lqxa9reo_lv96zi8.b_lqxa9reo_12i8sxid')\n",
    "        with open ('g_comment.txt','r',encoding='UTF8') as f:\n",
    "            댓글 = f.read()\n",
    "            댓글창[1].send_keys('\\n')\n",
    "            댓글창[1].send_keys(댓글)\n",
    "            rdtime_23()\n",
    "            등록 = driver.find_element(By.XPATH,'//p[text()=\"등록\"]').click()\n",
    "            rdtime_23()\n",
    "        xx += 1    \n",
    "except:\n",
    "    rdtime_12()"
   ]
  },
  {
   "cell_type": "code",
   "execution_count": 27,
   "metadata": {},
   "outputs": [],
   "source": [
    "##############배민원\n",
    "try:\n",
    "    배민피자선택 = driver.find_element(By.XPATH, '//option[@value=\"13927284\"]').click()\n",
    "    rdtime_23()\n",
    "    사장님댓글달기 = driver.find_elements(By.CSS_SELECTOR,'.button.medium.secondary')\n",
    "    xx = 0\n",
    "    for x in 사장님댓글달기:\n",
    "        사장님댓글달기[xx].click()\n",
    "        rdtime_23()\n",
    "        댓글창 = driver.find_elements(By.CSS_SELECTOR,'.b_lqxa9reo_12i8sxib.b_lqxa9reo_lv96zi8.b_lqxa9reo_12i8sxid')\n",
    "        with open ('g_comment.txt','r',encoding='UTF8') as f:\n",
    "            댓글 = f.read()\n",
    "            댓글창[1].send_keys('\\n')\n",
    "            댓글창[1].send_keys(댓글)\n",
    "            rdtime_23()\n",
    "            등록 = driver.find_element(By.XPATH,'//p[text()=\"등록\"]').click()\n",
    "            rdtime_23()\n",
    "        xx += 1    \n",
    "except:\n",
    "    rdtime_12()"
   ]
  },
  {
   "cell_type": "code",
   "execution_count": 6,
   "metadata": {},
   "outputs": [],
   "source": [
    "#####################일시정지\n",
    "driver.get('https://self.baemin.com/shops')\n",
    "rdtime_23()\n",
    "try:\n",
    "    rdtime_23()\n",
    "    전체영업중지 = driver.find_element(By.CSS_SELECTOR, '#btn-shop-all-suspend').click()\n",
    "    rdtime_23()\n",
    "    # 적용 = driver.find_element(By.XPATH, '//button[text()=\"적용\"]').click()\n",
    "    # rdtime_23()\n",
    "except:\n",
    "    rdtime_23()\n"
   ]
  },
  {
   "cell_type": "code",
   "execution_count": null,
   "metadata": {},
   "outputs": [],
   "source": [
    "driver.get('https://self.baemin.com/shops')\n"
   ]
  },
  {
   "cell_type": "code",
   "execution_count": 32,
   "metadata": {},
   "outputs": [
    {
     "name": "stdout",
     "output_type": "stream",
     "text": [
      "배너를 못찾음\n"
     ]
    }
   ],
   "source": [
    "# /html/body/div[4]/div/section/header/div/button/div  #xpath full\n",
    "\n",
    "driver.get('https://self.baemin.com/menu')\n",
    "rdtime_23()\n",
    "try:\n",
    "    배너값1 = f'.bsds-icon-button.bsds-modal-header-button.css-1sh9h6s' #xpath 1일간보지않기\n",
    "    배너창닫기1 = driver.find_elements(By.CSS_SELECTOR, value=배너값1)\n",
    "          \n",
    "    if 배너창닫기1 != 0:\n",
    "        배너창닫기1[0].click()\n",
    "        rdtime_23()\n",
    "    \n",
    "except:\n",
    "    print('배너를 못찾음')\n",
    "    rdtime_12()\n",
    "    # text_box.insert('end','취소했습니다\\n') #문자열마직막줄에 입력3"
   ]
  },
  {
   "cell_type": "code",
   "execution_count": 33,
   "metadata": {},
   "outputs": [],
   "source": [
    "# 배민상품 검색시작\n",
    "rdtime_23()\n",
    "검색 = driver.find_element(By.CLASS_NAME, 'css-2tifa1')\n",
    "rdtime_12()\n",
    "검색.send_keys('맵달')\n",
    "rdtime_12()\n",
    "검색.send_keys(Keys.ENTER)\n",
    "rdtime_12()\n"
   ]
  },
  {
   "cell_type": "code",
   "execution_count": 35,
   "metadata": {},
   "outputs": [],
   "source": [
    "#########################판매중클릭\n",
    "판매상태 = driver.find_elements(By.CSS_SELECTOR,'.baesisi-icon.bsds-icon.css-1bu3lxy')\n",
    "판매상태[1].click()\n",
    "rdtime_23()\n",
    "판매중 = driver.find_element(By.XPATH, '//*[@id=\"root\"]/div/div[3]/div[2]/div[1]/div[3]/div[2]/div[1]/div[2]/div[1]/div[2]/button[2]/div[2]')\n",
    "판매중.click()"
   ]
  },
  {
   "cell_type": "code",
   "execution_count": 38,
   "metadata": {},
   "outputs": [
    {
     "name": "stdout",
     "output_type": "stream",
     "text": [
      "0\n"
     ]
    }
   ],
   "source": [
    "###배민품절\n",
    "count = 0\n",
    "while True:\n",
    "    검색된상품 = driver.find_elements(By.CSS_SELECTOR, '.menuInfo-module__p2u1')\n",
    "    s_num = len(검색된상품)\n",
    "    print(s_num)\n",
    "    if s_num != 0:\n",
    "        검색된상품[0].click()\n",
    "        rdtime_23()\n",
    "        품절클릭 =driver.find_elements(By.CSS_SELECTOR, '.bsds-button.css-txre6z')\n",
    "        품절클릭[0].click()\n",
    "        rdtime_23()\n",
    "\n",
    "        품절클릭창닫기 =driver.find_elements(By.CSS_SELECTOR, '.bsds-icon-button.bsds-modal-header-button.css-1sh9h6s')\n",
    "        품절클릭창닫기[0].click()\n",
    "        rdtime_23()    \n",
    "    else:\n",
    "        break"
   ]
  },
  {
   "cell_type": "code",
   "execution_count": 42,
   "metadata": {},
   "outputs": [
    {
     "name": "stdout",
     "output_type": "stream",
     "text": [
      "3\n",
      "2\n",
      "1\n",
      "0\n"
     ]
    }
   ],
   "source": [
    "######굽네피자 품절\n",
    "매장선택 = driver.find_elements(By.CSS_SELECTOR,'.css-6vg3wo')\n",
    "매장선택[0].click()\n",
    "rdtime_23()\n",
    "굽네피자 = driver.find_elements(By.CSS_SELECTOR,'.bsds-action-sheet-item.css-1gagrh8')\n",
    "굽네피자[1].click()\n",
    "rdtime_23()\n",
    "\n",
    "count = 0\n",
    "while True:\n",
    "    검색된상품 = driver.find_elements(By.CSS_SELECTOR, '.menuInfo-module__p2u1')\n",
    "    s_num = len(검색된상품)\n",
    "    print(s_num)\n",
    "    if s_num != 0:\n",
    "        검색된상품[0].click()\n",
    "        rdtime_23()\n",
    "        품절클릭 =driver.find_elements(By.CSS_SELECTOR, '.bsds-button.css-txre6z')\n",
    "        품절클릭[0].click()\n",
    "        rdtime_23()\n",
    "\n",
    "        품절클릭창닫기 =driver.find_elements(By.CSS_SELECTOR, '.bsds-icon-button.bsds-modal-header-button.css-1sh9h6s')\n",
    "        품절클릭창닫기[0].click()\n",
    "        rdtime_23()    \n",
    "    else:\n",
    "        break"
   ]
  },
  {
   "cell_type": "code",
   "execution_count": 43,
   "metadata": {},
   "outputs": [
    {
     "name": "stdout",
     "output_type": "stream",
     "text": [
      "3\n",
      "2\n",
      "1\n",
      "0\n"
     ]
    }
   ],
   "source": [
    "########배민원 품절\n",
    "매장선택 = driver.find_elements(By.CSS_SELECTOR,'.css-6vg3wo')\n",
    "매장선택[0].click()\n",
    "rdtime_23()\n",
    "배민1 = driver.find_elements(By.CSS_SELECTOR,'.bsds-action-sheet-item.css-1gagrh8')\n",
    "배민1[2].click()\n",
    "rdtime_23()\n",
    "\n",
    "count = 0\n",
    "while True:\n",
    "    검색된상품 = driver.find_elements(By.CSS_SELECTOR, '.menuInfo-module__p2u1')\n",
    "    s_num = len(검색된상품)\n",
    "    print(s_num)\n",
    "    if s_num != 0:\n",
    "        검색된상품[0].click()\n",
    "        rdtime_23()\n",
    "        품절클릭 =driver.find_elements(By.CSS_SELECTOR, '.bsds-button.css-txre6z')\n",
    "        품절클릭[0].click()\n",
    "        rdtime_23()\n",
    "\n",
    "        품절클릭창닫기 =driver.find_elements(By.CSS_SELECTOR, '.bsds-icon-button.bsds-modal-header-button.css-1sh9h6s')\n",
    "        품절클릭창닫기[0].click()\n",
    "        rdtime_23()    \n",
    "    else:\n",
    "        break"
   ]
  },
  {
   "cell_type": "code",
   "execution_count": 44,
   "metadata": {},
   "outputs": [],
   "source": [
    "######배민옵션클릭 검색\n",
    "rdtime_12()\n",
    "옵션클릭 =driver.find_elements(By.CSS_SELECTOR, '.bsds-tab-item.css-1t8gcgu')\n",
    "옵션클릭[0].click()\n",
    "rdtime_23()\n",
    "\n",
    "옵션검색 = driver.find_element(By.CLASS_NAME, 'css-2tifa1')\n",
    "rdtime_12()\n",
    "옵션검색.send_keys('맵달')\n",
    "rdtime_23()\n",
    "옵션검색.send_keys(Keys.ENTER)\n",
    "rdtime_23()\n",
    "\n",
    "판매상태 = driver.find_elements(By.CSS_SELECTOR,'.baesisi-icon.bsds-icon.css-1bu3lxy')\n",
    "판매상태[1].click()\n",
    "rdtime_23()\n",
    "판매중 = driver.find_element(By.XPATH, '//*[@id=\"root\"]/div/div[3]/div[2]/div[1]/div[3]/div[2]/div[1]/div[2]/div[1]/div[2]/button[2]/div[2]')\n",
    "판매중.click()\n",
    "rdtime_23()"
   ]
  },
  {
   "cell_type": "code",
   "execution_count": 46,
   "metadata": {},
   "outputs": [],
   "source": [
    "#######배민옵션품절\n",
    "count = 0\n",
    "while True:\n",
    "    rdtime_12()\n",
    "    품절클릭 = driver.find_elements(By.CSS_SELECTOR,'.bsds-button.css-12agwq6')\n",
    "    품절클릭[0].click()\n",
    "    rdtime_23()\n",
    "\n",
    "    if count == 0:\n",
    "        품절라디오 = driver.find_elements(By.CSS_SELECTOR,'.bsds-radio.css-13mzxte')\n",
    "        try:\n",
    "            품절라디오[count].click()\n",
    "            rdtime_23()\n",
    "        except:\n",
    "            취소하기 = driver.find_element(By.CSS_SELECTOR,'.bsds-button.css-19v7nua').click()\n",
    "            break\n",
    "        driver.execute_script(\"window.scrollTo(0,0)\")\n",
    "        rdtime_23()\n",
    "\n",
    "    if count == 1:\n",
    "        품절라디오 = driver.find_elements(By.CSS_SELECTOR,'.bsds-radio.css-13mzxte')\n",
    "        try:\n",
    "            품절라디오[count].click()\n",
    "            rdtime_23()\n",
    "        except:\n",
    "            취소하기 = driver.find_element(By.CSS_SELECTOR,'.bsds-button.css-19v7nua').click()\n",
    "            break\n",
    "        driver.execute_script(\"window.scrollTo(0,0)\")\n",
    "        rdtime_23()\n",
    "\n",
    "    품절하기 = driver.find_elements(By.CSS_SELECTOR,'.bsds-button.css-bf39l8')\n",
    "    품절하기[0].click()\n",
    "    rdtime_23()\n",
    "\n",
    "    try:\n",
    "        최소옵션품절 = driver.find_element(By.XPATH,'/html/body/div[4]/div/section/div[2]/button/div')\n",
    "        if 최소옵션품절 != 0:\n",
    "            최소옵션품절.click()\n",
    "            rdtime_23()\n",
    "            취소하기 = driver.find_element(By.CSS_SELECTOR,'.bsds-button.css-19v7nua').click()\n",
    "            count += 1\n",
    "            rdtime_23()\n",
    "    except:\n",
    "        time.sleep(1)"
   ]
  },
  {
   "cell_type": "code",
   "execution_count": null,
   "metadata": {},
   "outputs": [],
   "source": [
    "count = 0\n",
    "옵션 = driver.find_elements(By.CSS_SELECTOR, '.bsds-typography-text16.franchiseOptionInfo-module__IzC8.css-12314f8')\n",
    "\n",
    "while True:\n",
    "    옵션2 = driver.find_elements(By.CSS_SELECTOR, '.bsds-typography-text16.franchiseOptionInfo-module__IzC8.css-12314f8')\n",
    "\n",
    "    if 옵션 != 옵션2:\n",
    "        while True:\n",
    "            scroll_size = driver.execute_script('return window.pageYOffset')\n",
    "            driver.execute_script(\"window.scrollTo(0, {})\".format(scroll_size + 20))\n",
    "            옵션3 = driver.find_elements(By.CSS_SELECTOR, '.bsds-typography-text16.franchiseOptionInfo-module__IzC8.css-12314f8')\n",
    "            rdtime_12()\n",
    "            if 옵션 == 옵션3:\n",
    "                break\n",
    "\n",
    "    rdtime_12()\n",
    "    옵션[count].click()\n",
    "    rdtime_23()\n",
    "    품절클릭 = driver.find_elements(By.CSS_SELECTOR, '.bsds-button.css-11bhmr4')\n",
    "    품절클릭[0].click()\n",
    "    rdtime_23()\n",
    "    try:\n",
    "        최소옵션품절 = driver.find_element(By.CSS_SELECTOR,'.bsds-button.css-bf39l8')\n",
    "        if 최소옵션품절 != 0:\n",
    "            최소옵션품절.click()\n",
    "            rdtime_23()\n",
    "    except:\n",
    "        time.sleep(1)\n",
    "    옵션창닫기 = driver.find_element(By.CSS_SELECTOR, '.bsds-icon-button.bsds-modal-header-button.css-1sh9h6s').click()\n",
    "    count += 1\n",
    "    rdtime_23()\n",
    "\n",
    "    # scroll_size = driver.execute_script('return window.pageYOffset')\n",
    "    # driver.execute_script(\"window.scrollTo(0, {})\".format(scroll_size + 250))\n",
    "    rdtime_12()"
   ]
  },
  {
   "cell_type": "code",
   "execution_count": 190,
   "metadata": {},
   "outputs": [
    {
     "name": "stdout",
     "output_type": "stream",
     "text": [
      "8\n"
     ]
    }
   ],
   "source": [
    "옵션2 = driver.find_elements(By.CSS_SELECTOR, '.bsds-typography-text16.franchiseOptionInfo-module__IzC8.css-12314f8')\n",
    "\n",
    "action = ActionChains(driver)\n",
    "\n",
    "action.move_to_element(옵션2[5]).perform()\n",
    "\n",
    "print(len(옵션2))"
   ]
  },
  {
   "cell_type": "code",
   "execution_count": 140,
   "metadata": {},
   "outputs": [],
   "source": [
    "scroll_size = driver.execute_script('return window.pageYOffset')\n",
    "driver.execute_script(\"window.scrollTo(0, {})\".format(scroll_size + 50))"
   ]
  },
  {
   "cell_type": "code",
   "execution_count": null,
   "metadata": {},
   "outputs": [],
   "source": [
    "옵션1 = driver.find_elements(By.CSS_SELECTOR, '.bsds-typography-text16.franchiseOptionInfo-module__IzC8.css-12314f8')\n",
    "print(len(옵션1))\n",
    "\n",
    "driver.execute_script('return window.pageYOffset')\n"
   ]
  },
  {
   "cell_type": "code",
   "execution_count": null,
   "metadata": {},
   "outputs": [],
   "source": [
    "count = 0\n",
    "while True:\n",
    "    옵션검색된상품 = driver.find_elements(By.CSS_SELECTOR, '.bsds-typography-text16.franchiseOptionInfo-module__IzC8.css-12314f8')\n",
    "    검색수 = len(옵션검색된상품)\n",
    "    print(f'검색개수는 {검색수}')\n",
    "    옵션검색된상품[count].click()\n",
    "    rdtime_23()\n",
    "    품절클릭 = driver.find_elements(By.CSS_SELECTOR, '.bsds-button.css-11bhmr4')\n",
    "    품절클릭[0].click()\n",
    "    rdtime_23()\n",
    "    try:\n",
    "        최소옵션품절 = driver.find_element(By.CSS_SELECTOR,'.bsds-button.css-bf39l8')\n",
    "        if 최소옵션품절 != 0:\n",
    "            최소옵션품절.click()\n",
    "            rdtime_23()\n",
    "    except:\n",
    "        time.sleep(1)\n",
    "    옵션창닫기 = driver.find_element(By.CSS_SELECTOR, '.bsds-icon-button.bsds-modal-header-button.css-1sh9h6s').click()\n",
    "    rdtime_23()\n",
    "    count += 1\n",
    "    print(f'클릭완료한숫자{count}')"
   ]
  },
  {
   "cell_type": "code",
   "execution_count": 16,
   "metadata": {},
   "outputs": [
    {
     "name": "stdout",
     "output_type": "stream",
     "text": [
      "품절상품은7\n"
     ]
    }
   ],
   "source": [
    "count = 0\n",
    "옵션검색된상품 = driver.find_elements(By.CSS_SELECTOR, '.bsds-typography-text16.franchiseOptionInfo-module__IzC8.css-12314f8')\n",
    "num = len(옵션검색된상품)\n",
    "num -= 1\n",
    "while True:\n",
    "    옵션검색된상품[count].click()\n",
    "    rdtime_23()\n",
    "    품절클릭 = driver.find_elements(By.CSS_SELECTOR, '.bsds-button.css-11bhmr4')\n",
    "    품절클릭[0].click()\n",
    "    rdtime_23()\n",
    "    try:\n",
    "        최소옵션품절 = driver.find_element(By.CSS_SELECTOR,'.bsds-button.css-bf39l8')\n",
    "        if 최소옵션품절 != 0:\n",
    "            최소옵션품절.click()\n",
    "            rdtime_23()\n",
    "            # 옵션창닫기 = driver.find_element(By.CSS_SELECTOR, '.bsds-icon-button.bsds-modal-header-button.css-1sh9h6s').click()\n",
    "            # rdtime_23()\n",
    "            # count += 1\n",
    "            # print(count)\n",
    "            # rdtime_12()\n",
    "            # break\n",
    "    except:\n",
    "        time.sleep(1)\n",
    "\n",
    "    옵션창닫기 = driver.find_element(By.CSS_SELECTOR, '.bsds-icon-button.bsds-modal-header-button.css-1sh9h6s').click()\n",
    "    rdtime_23()\n",
    "    count += 1\n",
    "    # print(count)\n",
    "    if count > 5:\n",
    "        break\n",
    "\n",
    "\n",
    "\n",
    "# 옵션검색된상품2 = driver.find_elements(By.CSS_SELECTOR, '.bsds-typography-text16.franchiseOptionInfo-module__IzC8.css-12314f8')\n",
    "# while True:\n",
    "#     if num < xx:\n",
    "#         break\n",
    "    \n",
    "#     옵션검색된상품2[xx].click()\n",
    "\n",
    "#     rdtime_23()\n",
    "#     품절클릭 = driver.find_elements(By.CSS_SELECTOR, '.bsds-button.css-11bhmr4')\n",
    "    # 품절클릭[0].click()\n",
    "    # rdtime_23()\n",
    "    # try:\n",
    "    #     최소옵션품절 = driver.find_element(By.CSS_SELECTOR,'.bsds-button.css-bf39l8')\n",
    "    #     if 최소옵션품절 != 0:\n",
    "    #         최소옵션품절.click()\n",
    "    #         rdtime_23()\n",
    "    #         # 옵션창닫기 = driver.find_element(By.CSS_SELECTOR, '.bsds-icon-button.bsds-modal-header-button.css-1sh9h6s').click()\n",
    "    #         # rdtime_23()\n",
    "    #         # break\n",
    "    # except:\n",
    "    #     time.sleep(1)\n",
    "\n",
    "    # 옵션창닫기 = driver.find_element(By.CSS_SELECTOR, '.bsds-icon-button.bsds-modal-header-button.css-1sh9h6s').click()\n",
    "    # rdtime_23()\n",
    "    # xx += 1\n",
    "    # print(f'품절상품은{xx}')\n"
   ]
  },
  {
   "cell_type": "code",
   "execution_count": 54,
   "metadata": {},
   "outputs": [
    {
     "name": "stdout",
     "output_type": "stream",
     "text": [
      "7\n",
      "8\n",
      "8\n"
     ]
    }
   ],
   "source": [
    "while True:\n",
    "    옵션검색된상품[xx].click()\n",
    "    rdtime_23()\n",
    "    품절클릭 = driver.find_elements(By.CSS_SELECTOR, '.bsds-button.css-11bhmr4')\n",
    "    품절클릭[0].click()\n",
    "    rdtime_23()\n",
    "    try:\n",
    "        최소옵션품절 = driver.find_element(By.CSS_SELECTOR,'.bsds-button.css-bf39l8')\n",
    "        if 최소옵션품절 != 0:\n",
    "            최소옵션품절.click()\n",
    "            rdtime_23()\n",
    "            break\n",
    "    except:\n",
    "        time.sleep(1)\n",
    "\n",
    "    옵션창닫기 = driver.find_element(By.CSS_SELECTOR, '.bsds-icon-button.bsds-modal-header-button.css-1sh9h6s').click()\n",
    "    rdtime_23()\n",
    "    xx += 1\n",
    "    print(xx)\n",
    "    if num < xx:\n",
    "        break\n",
    "print(xx)    \n",
    "\n"
   ]
  },
  {
   "cell_type": "code",
   "execution_count": null,
   "metadata": {},
   "outputs": [],
   "source": [
    "rdtime_12()\n",
    "옵션검색된상품 = driver.find_elements(By.CSS_SELECTOR, '.bsds-typography-text16.franchiseOptionInfo-module__IzC8.css-12314f8')\n",
    "print(len(옵션검색된상품))\n",
    "\n",
    "for i in 옵션검색된상품:\n",
    "    # action = ActionChains(driver)\n",
    "\n",
    "    # action.move_to_element(i).perform()\n",
    "    rdtime_12()\n",
    "    i.click()\n",
    "    rdtime_23()\n",
    "\n",
    "    품절클릭 = driver.find_elements(By.CSS_SELECTOR, '.bsds-button.css-11bhmr4')\n",
    "    품절클릭[0].click()\n",
    "    rdtime_23()\n",
    "\n",
    "    try:\n",
    "        최소옵션품절 = driver.find_element(By.CSS_SELECTOR,'.bsds-button.css-bf39l8')\n",
    "        if 최소옵션품절 != 0:\n",
    "            최소옵션품절.click()\n",
    "            rdtime_23()\n",
    "            옵션창닫기 = driver.find_element(By.CSS_SELECTOR, '.bsds-icon-button.bsds-modal-header-button.css-1sh9h6s').click()\n",
    "            rdtime_23()\n",
    "            driver.execute_script(\"window.scrollTo(0,1500)\")\n",
    "            rdtime_23()\n",
    "            \n",
    "            continue\n",
    "        # else:\n",
    "        #     옵션창닫기 = driver.find_element(By.CSS_SELECTOR, '.bsds-icon-button.bsds-modal-header-button.css-1sh9h6s').click()\n",
    "        #     rdtime_23()\n",
    "\n",
    "    except:\n",
    "        time.sleep(1)\n",
    "\n",
    "    옵션창닫기 = driver.find_element(By.CSS_SELECTOR, '.bsds-icon-button.bsds-modal-header-button.css-1sh9h6s').click()\n",
    "    # driver.execute_script(\"window.scrollTo(0,900)\")\n",
    "    \n",
    "    # rdtime_23\n",
    "    # 옵션클릭2 =driver.find_element(By.CSS_SELECTOR, '.baesisi-icon.bsds-icon.css-1yq7ayq')\n",
    "    # 옵션클릭2.send_keys(Keys.PAGE_DOWN)\n",
    "    rdtime_23()\n"
   ]
  },
  {
   "cell_type": "code",
   "execution_count": 153,
   "metadata": {},
   "outputs": [
    {
     "name": "stdout",
     "output_type": "stream",
     "text": [
      "//span[contains(text(),\"맵달\")]\n",
      "9\n"
     ]
    }
   ],
   "source": [
    "xx = '//span[contains(text(),\"맵달\")]'\n",
    "print(xx)\n",
    "검색된 = driver.find_elements(By.XPATH, f'{xx}')\n",
    "print(len(검색된))\n"
   ]
  }
 ],
 "metadata": {
  "kernelspec": {
   "display_name": "Python 3",
   "language": "python",
   "name": "python3"
  },
  "language_info": {
   "codemirror_mode": {
    "name": "ipython",
    "version": 3
   },
   "file_extension": ".py",
   "mimetype": "text/x-python",
   "name": "python",
   "nbconvert_exporter": "python",
   "pygments_lexer": "ipython3",
   "version": "3.12.0"
  }
 },
 "nbformat": 4,
 "nbformat_minor": 2
}
