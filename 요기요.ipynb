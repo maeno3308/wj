{
 "cells": [
  {
   "cell_type": "code",
   "execution_count": 1,
   "metadata": {},
   "outputs": [],
   "source": [
    "import os\n",
    "import time\n",
    "import random\n",
    "\n",
    "from selenium import webdriver\n",
    "from selenium.webdriver.chrome.options import Options\n",
    "from selenium.common.exceptions import NoSuchElementException\n",
    "\n",
    "from selenium.webdriver.common.by import By\n",
    "from selenium.webdriver.common.keys import Keys"
   ]
  },
  {
   "cell_type": "code",
   "execution_count": 2,
   "metadata": {},
   "outputs": [],
   "source": [
    "\n",
    "options = Options()\n",
    "\n",
    "user_agent = 'Mozilla/5.0 (Windows NT 10.0; Win64; x64) AppleWebKit/537.36 (KHTML, like Gecko) Chrome/119.0.0.0 Safari/537.36'\n",
    "# user_data = \"내가 원하는 경로\"\n",
    "\n",
    "options.add_argument(f\"user-agent={user_agent}\")\n",
    "# options.add_argument(f\"user-data-dir={user_data}\")\n",
    "options.add_experimental_option(\"detach\", True) # 화면이 꺼지지 않고 유지"
   ]
  },
  {
   "cell_type": "code",
   "execution_count": 3,
   "metadata": {},
   "outputs": [],
   "source": [
    "def rdtime_12():\n",
    "    time.sleep(random.uniform(1,2))\n",
    "    return\n",
    "def rdtime_23():\n",
    "    time.sleep(random.uniform(2,3))\n",
    "    return"
   ]
  },
  {
   "cell_type": "code",
   "execution_count": 4,
   "metadata": {},
   "outputs": [],
   "source": [
    "###############요기요 로그인\n",
    "driver = webdriver.Chrome(options=options)\n",
    "driver.get('https://ceo.yogiyo.co.kr/login')\n",
    "rdtime_12()\n",
    "rdtime_23()\n",
    "try:\n",
    "    요_아이디 = driver.find_element(By.NAME, value='username').send_keys('maeno3308')\n",
    "    rdtime_23()\n",
    "    요_비번 = driver.find_element(By.NAME, value='password').send_keys('@kwj300560011*')\n",
    "    rdtime_23()\n",
    "    로그인클릭 = driver.find_element(By.XPATH, value='/html/body/div[1]/div/div[1]/div/div[2]/form/button/div').click()\n",
    "    rdtime_23()\n",
    "    rdtime_23()\n",
    "except:\n",
    "    rdtime_12()\n",
    "\n"
   ]
  },
  {
   "cell_type": "code",
   "execution_count": 11,
   "metadata": {},
   "outputs": [
    {
     "name": "stdout",
     "output_type": "stream",
     "text": [
      "4\n"
     ]
    }
   ],
   "source": [
    "###################요기요품절해제\n",
    "try:\n",
    "    driver.get('https://ceo.yogiyo.co.kr/soldout/menu')\n",
    "    rdtime_23()\n",
    "except:\n",
    "    rdtime_23()\n",
    "try:\n",
    "    품절해제클릭 = driver.find_elements(By.XPATH,'//button[@value=\"sale\"]')\n",
    "    print(len(품절해제클릭))\n",
    "    xx = 0\n",
    "    for i in 품절해제클릭:\n",
    "        품절해제클릭[xx].click()\n",
    "        rdtime_23()\n",
    "        xx += 1\n",
    "\n",
    "    rdtime_12()\n",
    "    옵션품절클릭 = driver.find_element(By.LINK_TEXT, '옵션품절').click()\n",
    "    rdtime_23()\n",
    "    옵션품절검색 = driver.find_element(By.NAME, value='keyword').send_keys('맵달')\n",
    "    rdtime_23()  \n",
    "    품절해제클릭 = driver.find_elements(By.XPATH,'//button[@value=\"sale\"]')\n",
    "    print(len(품절해제클릭))\n",
    "    xx = 0\n",
    "    for i in 품절해제클릭:\n",
    "        품절해제클릭[xx].click()\n",
    "        rdtime_23()\n",
    "        xx += 1  \n",
    "except:\n",
    "    rdtime_12()"
   ]
  },
  {
   "cell_type": "code",
   "execution_count": 23,
   "metadata": {},
   "outputs": [
    {
     "name": "stdout",
     "output_type": "stream",
     "text": [
      "1\n",
      "1\n"
     ]
    }
   ],
   "source": [
    "##############요기요 댓글달기\n",
    "\n",
    "try:\n",
    "    driver.get('https://ceo.yogiyo.co.kr/reviews')\n",
    "    rdtime_23()\n",
    "except:\n",
    "    rdtime_23()\n",
    "\n",
    "try:\n",
    "    평점 = driver.find_elements(By.CSS_SELECTOR, '.Typography__StyledTypography-sc-r9ksfy-0.cknzqP')\n",
    "    xx = 0\n",
    "    for x in 평점:\n",
    "        점수 = float(평점[xx].text)\n",
    "        if 점수 >= 4.0:\n",
    "            rdtime_23()\n",
    "            댓글쓰기클릭 =  driver.find_elements(By.CSS_SELECTOR, '.sc-dkzDqf.cxmxbn')\n",
    "            print(len(댓글쓰기클릭))\n",
    "            댓글쓰기클릭[0].click()\n",
    "            rdtime_23()\n",
    "            댓글쓰기 = driver.find_element(By.CSS_SELECTOR, '.ReviewReply__CustomTextarea-sc-1536a88-4.efgGYK')\n",
    "            with open ('g_comment.txt','r',encoding='UTF8') as f:\n",
    "                댓글5 = f.read()\n",
    "            댓글쓰기.send_keys('\\n')\n",
    "            time.sleep(1)\n",
    "            댓글쓰기.send_keys(댓글5)\n",
    "            rdtime_23()\n",
    "            \n",
    "            xx += 1\n",
    "        elif 점수 < 4.0:\n",
    "            rdtime_23()\n",
    "            댓글쓰기클릭 =  driver.find_elements(By.CSS_SELECTOR, '.sc-dkzDqf.cxmxbn')\n",
    "            print(len(댓글쓰기클릭))\n",
    "            댓글쓰기클릭[0].click()\n",
    "            rdtime_23()\n",
    "            댓글쓰기 = driver.find_element(By.CSS_SELECTOR, '.ReviewReply__CustomTextarea-sc-1536a88-4.efgGYK')\n",
    "            with open ('b_comment.txt','r',encoding='UTF8') as f:\n",
    "                댓글4 = f.read()\n",
    "            댓글쓰기.send_keys('\\n')\n",
    "            time.sleep(1)\n",
    "            댓글쓰기.send_keys(댓글4)\n",
    "            rdtime_23()            \n",
    "            xx += 1\n",
    "except:\n",
    "    rdtime_12()"
   ]
  },
  {
   "cell_type": "code",
   "execution_count": 12,
   "metadata": {},
   "outputs": [],
   "source": [
    "##############일시정지 30분\n",
    "\n",
    "try:\n",
    "    driver.get('https://ceo.yogiyo.co.kr/pause')\n",
    "    rdtime_23()\n",
    "except:\n",
    "    rdtime_23()\n",
    "# 배너클릭()\n",
    "rdtime_23()\n",
    "\n",
    "try:\n",
    "    시간클릭30 = driver.find_element(By.XPATH, '//div[text()=\"30분\"]').click()\n",
    "    rdtime_23()\n",
    "    일시정지 = driver.find_element(By.XPATH, '//button[@type=\"submit\"]').click()\n",
    "    rdtime_23()    \n",
    "except:\n",
    "    rdtime_12()\n",
    "    driver.execute_script(\"window.scrollTo(0,0)\")\n",
    "    rdtime_12()\n"
   ]
  },
  {
   "cell_type": "code",
   "execution_count": 44,
   "metadata": {},
   "outputs": [],
   "source": [
    "#######################메뉴품절\n",
    "rdtime_12()\n",
    "try:\n",
    "    driver.get('https://ceo.yogiyo.co.kr/soldout/menu')\n",
    "    rdtime_23()\n",
    "except:\n",
    "    rdtime_23()\n",
    "try:\n",
    "    검색어입력 = driver.find_element(By.NAME, value='keyword').send_keys('파스')\n",
    "    rdtime_23()\n",
    "    검색결과 = driver.find_elements(By.XPATH, '//button[@value=\"today\"]')\n",
    "    for i in 검색결과:\n",
    "        i.click()\n",
    "        rdtime_23()\n",
    "except:\n",
    "    rdtime_12()\n",
    "    driver.execute_script(\"window.scrollTo(0,0)\")\n",
    "    rdtime_12()"
   ]
  },
  {
   "cell_type": "code",
   "execution_count": 45,
   "metadata": {},
   "outputs": [],
   "source": [
    "ㅌㅌ = driver.execute_script(\"window.scrollTo(0,0)\")\n"
   ]
  },
  {
   "cell_type": "code",
   "execution_count": 39,
   "metadata": {},
   "outputs": [],
   "source": [
    "###################옵션품절\n",
    "try:\n",
    "    rdtime_12()\n",
    "    옵션품절클릭 = driver.find_element(By.XPATH, '//*[@id=\"common-layout-wrapper-id\"]/div[2]/div[1]/div[2]/a').click()\n",
    "    rdtime_23()\n",
    "    옵션품절검색 = driver.find_element(By.NAME, value='keyword').send_keys('콤보')\n",
    "    rdtime_23()\n",
    "\n",
    "    옵션품절 = driver.find_elements(By.XPATH, '//button[@value=\"today\"]')\n",
    "    for i in 옵션품절:\n",
    "        i.click()\n",
    "        rdtime_23()\n",
    "        try:\n",
    "            필수선택 = driver.find_element(By.CSS_SELECTOR, '.sc-bczRLJ.claiZC.sc-eCYdqJ.hsiXYt')\n",
    "            if 필수선택 != 0:\n",
    "                필수선택.click()\n",
    "                rdtime_23()\n",
    "        except:\n",
    "            rdtime_12()\n",
    "except:\n",
    "    rdtime_12()"
   ]
  },
  {
   "cell_type": "code",
   "execution_count": 35,
   "metadata": {},
   "outputs": [],
   "source": [
    "xxxx =driver.find_element(By.CSS_SELECTOR, '.sc-bczRLJ.claiZC.sc-eCYdqJ.hsiXYt').click()"
   ]
  }
 ],
 "metadata": {
  "kernelspec": {
   "display_name": "Python 3",
   "language": "python",
   "name": "python3"
  },
  "language_info": {
   "codemirror_mode": {
    "name": "ipython",
    "version": 3
   },
   "file_extension": ".py",
   "mimetype": "text/x-python",
   "name": "python",
   "nbconvert_exporter": "python",
   "pygments_lexer": "ipython3",
   "version": "3.12.0"
  }
 },
 "nbformat": 4,
 "nbformat_minor": 2
}
